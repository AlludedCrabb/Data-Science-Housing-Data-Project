{
 "cells": [
  {
   "cell_type": "markdown",
   "metadata": {},
   "source": [
    "## Final Project Submission\n",
    "\n",
    "Please fill out:\n",
    "* Student name: Jacob Crabb/ Taeho Jeon\n",
    "* Student pace: full time \n",
    "* Instructor name: Greg/Miles\n",
    "* Blog post URL:\n"
   ]
  },
  {
   "cell_type": "code",
   "execution_count": 119,
   "metadata": {},
   "outputs": [],
   "source": [
    "#import our libraries\n",
    "import pandas as pd\n",
    "from pandasql import sqldf\n",
    "import matplotlib.pyplot as plt\n",
    "from scipy.stats import linregress\n",
    "import folium\n",
    "import numpy as np\n",
    "from sklearn.model_selection import train_test_split\n",
    "from sklearn.linear_model import LinearRegression\n",
    "from sklearn.metrics import mean_squared_error\n",
    "from sklearn.model_selection import cross_val_score\n",
    "import seaborn as sns"
   ]
  },
  {
   "cell_type": "code",
   "execution_count": 120,
   "metadata": {},
   "outputs": [],
   "source": [
    "#set up our sql variables\n",
    "pysqldf = lambda q: sqldf(q, globals())"
   ]
  },
  {
   "cell_type": "code",
   "execution_count": 121,
   "metadata": {},
   "outputs": [],
   "source": [
    "#set our dataframe\n",
    "df = pd.read_csv('kc_house_data.csv')"
   ]
  },
  {
   "cell_type": "code",
   "execution_count": 122,
   "metadata": {},
   "outputs": [
    {
     "name": "stdout",
     "output_type": "stream",
     "text": [
      "[3 5 4 1 2]\n",
      "[ 7  6  8 11  9  5 10 12  4  3 13]\n"
     ]
    }
   ],
   "source": [
    "#check out some of the column values\n",
    "print(df.condition.unique())\n",
    "\n",
    "print(df.grade.unique())"
   ]
  },
  {
   "cell_type": "code",
   "execution_count": 123,
   "metadata": {},
   "outputs": [
    {
     "data": {
      "text/html": [
       "<div>\n",
       "<style scoped>\n",
       "    .dataframe tbody tr th:only-of-type {\n",
       "        vertical-align: middle;\n",
       "    }\n",
       "\n",
       "    .dataframe tbody tr th {\n",
       "        vertical-align: top;\n",
       "    }\n",
       "\n",
       "    .dataframe thead th {\n",
       "        text-align: right;\n",
       "    }\n",
       "</style>\n",
       "<table border=\"1\" class=\"dataframe\">\n",
       "  <thead>\n",
       "    <tr style=\"text-align: right;\">\n",
       "      <th></th>\n",
       "      <th>id</th>\n",
       "      <th>date</th>\n",
       "      <th>price</th>\n",
       "      <th>bedrooms</th>\n",
       "      <th>bathrooms</th>\n",
       "      <th>sqft_living</th>\n",
       "      <th>sqft_lot</th>\n",
       "      <th>floors</th>\n",
       "      <th>waterfront</th>\n",
       "      <th>view</th>\n",
       "      <th>...</th>\n",
       "      <th>grade</th>\n",
       "      <th>sqft_above</th>\n",
       "      <th>sqft_basement</th>\n",
       "      <th>yr_built</th>\n",
       "      <th>yr_renovated</th>\n",
       "      <th>zipcode</th>\n",
       "      <th>lat</th>\n",
       "      <th>long</th>\n",
       "      <th>sqft_living15</th>\n",
       "      <th>sqft_lot15</th>\n",
       "    </tr>\n",
       "  </thead>\n",
       "  <tbody>\n",
       "    <tr>\n",
       "      <th>0</th>\n",
       "      <td>7129300520</td>\n",
       "      <td>10/13/2014</td>\n",
       "      <td>221900.0</td>\n",
       "      <td>3</td>\n",
       "      <td>1.00</td>\n",
       "      <td>1180</td>\n",
       "      <td>5650</td>\n",
       "      <td>1.0</td>\n",
       "      <td>NaN</td>\n",
       "      <td>0.0</td>\n",
       "      <td>...</td>\n",
       "      <td>7</td>\n",
       "      <td>1180</td>\n",
       "      <td>0.0</td>\n",
       "      <td>1955</td>\n",
       "      <td>0.0</td>\n",
       "      <td>98178</td>\n",
       "      <td>47.5112</td>\n",
       "      <td>-122.257</td>\n",
       "      <td>1340</td>\n",
       "      <td>5650</td>\n",
       "    </tr>\n",
       "    <tr>\n",
       "      <th>1</th>\n",
       "      <td>6414100192</td>\n",
       "      <td>12/9/2014</td>\n",
       "      <td>538000.0</td>\n",
       "      <td>3</td>\n",
       "      <td>2.25</td>\n",
       "      <td>2570</td>\n",
       "      <td>7242</td>\n",
       "      <td>2.0</td>\n",
       "      <td>0.0</td>\n",
       "      <td>0.0</td>\n",
       "      <td>...</td>\n",
       "      <td>7</td>\n",
       "      <td>2170</td>\n",
       "      <td>400.0</td>\n",
       "      <td>1951</td>\n",
       "      <td>1991.0</td>\n",
       "      <td>98125</td>\n",
       "      <td>47.7210</td>\n",
       "      <td>-122.319</td>\n",
       "      <td>1690</td>\n",
       "      <td>7639</td>\n",
       "    </tr>\n",
       "    <tr>\n",
       "      <th>2</th>\n",
       "      <td>5631500400</td>\n",
       "      <td>2/25/2015</td>\n",
       "      <td>180000.0</td>\n",
       "      <td>2</td>\n",
       "      <td>1.00</td>\n",
       "      <td>770</td>\n",
       "      <td>10000</td>\n",
       "      <td>1.0</td>\n",
       "      <td>0.0</td>\n",
       "      <td>0.0</td>\n",
       "      <td>...</td>\n",
       "      <td>6</td>\n",
       "      <td>770</td>\n",
       "      <td>0.0</td>\n",
       "      <td>1933</td>\n",
       "      <td>NaN</td>\n",
       "      <td>98028</td>\n",
       "      <td>47.7379</td>\n",
       "      <td>-122.233</td>\n",
       "      <td>2720</td>\n",
       "      <td>8062</td>\n",
       "    </tr>\n",
       "    <tr>\n",
       "      <th>3</th>\n",
       "      <td>2487200875</td>\n",
       "      <td>12/9/2014</td>\n",
       "      <td>604000.0</td>\n",
       "      <td>4</td>\n",
       "      <td>3.00</td>\n",
       "      <td>1960</td>\n",
       "      <td>5000</td>\n",
       "      <td>1.0</td>\n",
       "      <td>0.0</td>\n",
       "      <td>0.0</td>\n",
       "      <td>...</td>\n",
       "      <td>7</td>\n",
       "      <td>1050</td>\n",
       "      <td>910.0</td>\n",
       "      <td>1965</td>\n",
       "      <td>0.0</td>\n",
       "      <td>98136</td>\n",
       "      <td>47.5208</td>\n",
       "      <td>-122.393</td>\n",
       "      <td>1360</td>\n",
       "      <td>5000</td>\n",
       "    </tr>\n",
       "    <tr>\n",
       "      <th>4</th>\n",
       "      <td>1954400510</td>\n",
       "      <td>2/18/2015</td>\n",
       "      <td>510000.0</td>\n",
       "      <td>3</td>\n",
       "      <td>2.00</td>\n",
       "      <td>1680</td>\n",
       "      <td>8080</td>\n",
       "      <td>1.0</td>\n",
       "      <td>0.0</td>\n",
       "      <td>0.0</td>\n",
       "      <td>...</td>\n",
       "      <td>8</td>\n",
       "      <td>1680</td>\n",
       "      <td>0.0</td>\n",
       "      <td>1987</td>\n",
       "      <td>0.0</td>\n",
       "      <td>98074</td>\n",
       "      <td>47.6168</td>\n",
       "      <td>-122.045</td>\n",
       "      <td>1800</td>\n",
       "      <td>7503</td>\n",
       "    </tr>\n",
       "  </tbody>\n",
       "</table>\n",
       "<p>5 rows × 21 columns</p>\n",
       "</div>"
      ],
      "text/plain": [
       "           id        date     price  bedrooms  bathrooms  sqft_living  \\\n",
       "0  7129300520  10/13/2014  221900.0         3       1.00         1180   \n",
       "1  6414100192   12/9/2014  538000.0         3       2.25         2570   \n",
       "2  5631500400   2/25/2015  180000.0         2       1.00          770   \n",
       "3  2487200875   12/9/2014  604000.0         4       3.00         1960   \n",
       "4  1954400510   2/18/2015  510000.0         3       2.00         1680   \n",
       "\n",
       "   sqft_lot  floors  waterfront  view     ...      grade  sqft_above  \\\n",
       "0      5650     1.0         NaN   0.0     ...          7        1180   \n",
       "1      7242     2.0         0.0   0.0     ...          7        2170   \n",
       "2     10000     1.0         0.0   0.0     ...          6         770   \n",
       "3      5000     1.0         0.0   0.0     ...          7        1050   \n",
       "4      8080     1.0         0.0   0.0     ...          8        1680   \n",
       "\n",
       "   sqft_basement yr_built  yr_renovated  zipcode      lat     long  \\\n",
       "0            0.0     1955           0.0    98178  47.5112 -122.257   \n",
       "1          400.0     1951        1991.0    98125  47.7210 -122.319   \n",
       "2            0.0     1933           NaN    98028  47.7379 -122.233   \n",
       "3          910.0     1965           0.0    98136  47.5208 -122.393   \n",
       "4            0.0     1987           0.0    98074  47.6168 -122.045   \n",
       "\n",
       "   sqft_living15  sqft_lot15  \n",
       "0           1340        5650  \n",
       "1           1690        7639  \n",
       "2           2720        8062  \n",
       "3           1360        5000  \n",
       "4           1800        7503  \n",
       "\n",
       "[5 rows x 21 columns]"
      ]
     },
     "execution_count": 123,
     "metadata": {},
     "output_type": "execute_result"
    }
   ],
   "source": [
    "#explore our dataframe\n",
    "df.head()"
   ]
  },
  {
   "cell_type": "code",
   "execution_count": 124,
   "metadata": {},
   "outputs": [
    {
     "data": {
      "text/html": [
       "<div>\n",
       "<style scoped>\n",
       "    .dataframe tbody tr th:only-of-type {\n",
       "        vertical-align: middle;\n",
       "    }\n",
       "\n",
       "    .dataframe tbody tr th {\n",
       "        vertical-align: top;\n",
       "    }\n",
       "\n",
       "    .dataframe thead th {\n",
       "        text-align: right;\n",
       "    }\n",
       "</style>\n",
       "<table border=\"1\" class=\"dataframe\">\n",
       "  <thead>\n",
       "    <tr style=\"text-align: right;\">\n",
       "      <th></th>\n",
       "      <th>id</th>\n",
       "      <th>price</th>\n",
       "      <th>bedrooms</th>\n",
       "      <th>bathrooms</th>\n",
       "      <th>sqft_living</th>\n",
       "      <th>sqft_lot</th>\n",
       "      <th>floors</th>\n",
       "      <th>waterfront</th>\n",
       "      <th>view</th>\n",
       "      <th>condition</th>\n",
       "      <th>grade</th>\n",
       "      <th>sqft_above</th>\n",
       "      <th>yr_built</th>\n",
       "      <th>yr_renovated</th>\n",
       "      <th>zipcode</th>\n",
       "      <th>lat</th>\n",
       "      <th>long</th>\n",
       "      <th>sqft_living15</th>\n",
       "      <th>sqft_lot15</th>\n",
       "    </tr>\n",
       "  </thead>\n",
       "  <tbody>\n",
       "    <tr>\n",
       "      <th>id</th>\n",
       "      <td>1.000000</td>\n",
       "      <td>-0.016772</td>\n",
       "      <td>0.001150</td>\n",
       "      <td>0.005162</td>\n",
       "      <td>-0.012241</td>\n",
       "      <td>-0.131911</td>\n",
       "      <td>0.018608</td>\n",
       "      <td>-0.004176</td>\n",
       "      <td>0.011592</td>\n",
       "      <td>-0.023803</td>\n",
       "      <td>0.008188</td>\n",
       "      <td>-0.010799</td>\n",
       "      <td>0.021617</td>\n",
       "      <td>-0.012010</td>\n",
       "      <td>-0.008211</td>\n",
       "      <td>-0.001798</td>\n",
       "      <td>0.020672</td>\n",
       "      <td>-0.002701</td>\n",
       "      <td>-0.138557</td>\n",
       "    </tr>\n",
       "    <tr>\n",
       "      <th>price</th>\n",
       "      <td>-0.016772</td>\n",
       "      <td>1.000000</td>\n",
       "      <td>0.308787</td>\n",
       "      <td>0.525906</td>\n",
       "      <td>0.701917</td>\n",
       "      <td>0.089876</td>\n",
       "      <td>0.256804</td>\n",
       "      <td>0.276295</td>\n",
       "      <td>0.395734</td>\n",
       "      <td>0.036056</td>\n",
       "      <td>0.667951</td>\n",
       "      <td>0.605368</td>\n",
       "      <td>0.053953</td>\n",
       "      <td>0.129599</td>\n",
       "      <td>-0.053402</td>\n",
       "      <td>0.306692</td>\n",
       "      <td>0.022036</td>\n",
       "      <td>0.585241</td>\n",
       "      <td>0.082845</td>\n",
       "    </tr>\n",
       "    <tr>\n",
       "      <th>bedrooms</th>\n",
       "      <td>0.001150</td>\n",
       "      <td>0.308787</td>\n",
       "      <td>1.000000</td>\n",
       "      <td>0.514508</td>\n",
       "      <td>0.578212</td>\n",
       "      <td>0.032471</td>\n",
       "      <td>0.177944</td>\n",
       "      <td>-0.002386</td>\n",
       "      <td>0.078523</td>\n",
       "      <td>0.026496</td>\n",
       "      <td>0.356563</td>\n",
       "      <td>0.479386</td>\n",
       "      <td>0.155670</td>\n",
       "      <td>0.018495</td>\n",
       "      <td>-0.154092</td>\n",
       "      <td>-0.009951</td>\n",
       "      <td>0.132054</td>\n",
       "      <td>0.393406</td>\n",
       "      <td>0.030690</td>\n",
       "    </tr>\n",
       "    <tr>\n",
       "      <th>bathrooms</th>\n",
       "      <td>0.005162</td>\n",
       "      <td>0.525906</td>\n",
       "      <td>0.514508</td>\n",
       "      <td>1.000000</td>\n",
       "      <td>0.755758</td>\n",
       "      <td>0.088373</td>\n",
       "      <td>0.502582</td>\n",
       "      <td>0.067282</td>\n",
       "      <td>0.186451</td>\n",
       "      <td>-0.126479</td>\n",
       "      <td>0.665838</td>\n",
       "      <td>0.686668</td>\n",
       "      <td>0.507173</td>\n",
       "      <td>0.051050</td>\n",
       "      <td>-0.204786</td>\n",
       "      <td>0.024280</td>\n",
       "      <td>0.224903</td>\n",
       "      <td>0.569884</td>\n",
       "      <td>0.088303</td>\n",
       "    </tr>\n",
       "    <tr>\n",
       "      <th>sqft_living</th>\n",
       "      <td>-0.012241</td>\n",
       "      <td>0.701917</td>\n",
       "      <td>0.578212</td>\n",
       "      <td>0.755758</td>\n",
       "      <td>1.000000</td>\n",
       "      <td>0.173453</td>\n",
       "      <td>0.353953</td>\n",
       "      <td>0.110230</td>\n",
       "      <td>0.282532</td>\n",
       "      <td>-0.059445</td>\n",
       "      <td>0.762779</td>\n",
       "      <td>0.876448</td>\n",
       "      <td>0.318152</td>\n",
       "      <td>0.055660</td>\n",
       "      <td>-0.199802</td>\n",
       "      <td>0.052155</td>\n",
       "      <td>0.241214</td>\n",
       "      <td>0.756402</td>\n",
       "      <td>0.184342</td>\n",
       "    </tr>\n",
       "  </tbody>\n",
       "</table>\n",
       "</div>"
      ],
      "text/plain": [
       "                   id     price  bedrooms  bathrooms  sqft_living  sqft_lot  \\\n",
       "id           1.000000 -0.016772  0.001150   0.005162    -0.012241 -0.131911   \n",
       "price       -0.016772  1.000000  0.308787   0.525906     0.701917  0.089876   \n",
       "bedrooms     0.001150  0.308787  1.000000   0.514508     0.578212  0.032471   \n",
       "bathrooms    0.005162  0.525906  0.514508   1.000000     0.755758  0.088373   \n",
       "sqft_living -0.012241  0.701917  0.578212   0.755758     1.000000  0.173453   \n",
       "\n",
       "               floors  waterfront      view  condition     grade  sqft_above  \\\n",
       "id           0.018608   -0.004176  0.011592  -0.023803  0.008188   -0.010799   \n",
       "price        0.256804    0.276295  0.395734   0.036056  0.667951    0.605368   \n",
       "bedrooms     0.177944   -0.002386  0.078523   0.026496  0.356563    0.479386   \n",
       "bathrooms    0.502582    0.067282  0.186451  -0.126479  0.665838    0.686668   \n",
       "sqft_living  0.353953    0.110230  0.282532  -0.059445  0.762779    0.876448   \n",
       "\n",
       "             yr_built  yr_renovated   zipcode       lat      long  \\\n",
       "id           0.021617     -0.012010 -0.008211 -0.001798  0.020672   \n",
       "price        0.053953      0.129599 -0.053402  0.306692  0.022036   \n",
       "bedrooms     0.155670      0.018495 -0.154092 -0.009951  0.132054   \n",
       "bathrooms    0.507173      0.051050 -0.204786  0.024280  0.224903   \n",
       "sqft_living  0.318152      0.055660 -0.199802  0.052155  0.241214   \n",
       "\n",
       "             sqft_living15  sqft_lot15  \n",
       "id               -0.002701   -0.138557  \n",
       "price             0.585241    0.082845  \n",
       "bedrooms          0.393406    0.030690  \n",
       "bathrooms         0.569884    0.088303  \n",
       "sqft_living       0.756402    0.184342  "
      ]
     },
     "execution_count": 124,
     "metadata": {},
     "output_type": "execute_result"
    }
   ],
   "source": [
    "#see what relates to what\n",
    "df.corr().head()"
   ]
  },
  {
   "cell_type": "code",
   "execution_count": 125,
   "metadata": {},
   "outputs": [
    {
     "data": {
      "text/plain": [
       "15279    78000.0\n",
       "465      80000.0\n",
       "16184    81000.0\n",
       "8267     82000.0\n",
       "2139     82500.0\n",
       "Name: price, dtype: float64"
      ]
     },
     "execution_count": 125,
     "metadata": {},
     "output_type": "execute_result"
    }
   ],
   "source": [
    "#look at the low end of values\n",
    "df.price.sort_values().head()"
   ]
  },
  {
   "cell_type": "code",
   "execution_count": 126,
   "metadata": {},
   "outputs": [
    {
     "data": {
      "text/plain": [
       "0"
      ]
     },
     "execution_count": 126,
     "metadata": {},
     "output_type": "execute_result"
    }
   ],
   "source": [
    "#make sure that all the values are numbers\n",
    "df.price.isna().sum()"
   ]
  },
  {
   "cell_type": "code",
   "execution_count": 127,
   "metadata": {
    "scrolled": true
   },
   "outputs": [
    {
     "data": {
      "text/plain": [
       "count    21597.000000\n",
       "mean      2080.321850\n",
       "std        918.106125\n",
       "min        370.000000\n",
       "25%       1430.000000\n",
       "50%       1910.000000\n",
       "75%       2550.000000\n",
       "max      13540.000000\n",
       "Name: sqft_living, dtype: float64"
      ]
     },
     "execution_count": 127,
     "metadata": {},
     "output_type": "execute_result"
    }
   ],
   "source": [
    "#check out just teh square foot living column\n",
    "df.sqft_living.describe()"
   ]
  },
  {
   "cell_type": "code",
   "execution_count": 128,
   "metadata": {},
   "outputs": [
    {
     "data": {
      "text/plain": [
       "<matplotlib.collections.PathCollection at 0x1a248a0710>"
      ]
     },
     "execution_count": 128,
     "metadata": {},
     "output_type": "execute_result"
    },
    {
     "data": {
      "image/png": "[encoded data removed]",
      "text/plain": [
       "<Figure size 432x288 with 1 Axes>"
      ]
     },
     "metadata": {
      "needs_background": "light"
     },
     "output_type": "display_data"
    }
   ],
   "source": [
    "#set some variables for our first plot\n",
    "X = df.sqft_living\n",
    "y = df.price\n",
    "\n",
    "plt.scatter(X, y)"
   ]
  },
  {
   "cell_type": "code",
   "execution_count": 129,
   "metadata": {},
   "outputs": [],
   "source": [
    "#go for a more advanced attempt at least squares regression\n",
    "slope, intercept, rvalue, pvalue, stderr = linregress(X,y)\n",
    "\n",
    "first_model_y = slope*X + intercept"
   ]
  },
  {
   "cell_type": "code",
   "execution_count": 130,
   "metadata": {},
   "outputs": [
    {
     "data": {
      "text/plain": [
       "LinregressResult(slope=280.8630143588746, intercept=-43988.892194227315, rvalue=0.7019173021377599, pvalue=0.0, stderr=1.9394099144299841)"
      ]
     },
     "execution_count": 130,
     "metadata": {},
     "output_type": "execute_result"
    }
   ],
   "source": [
    "#check out our regression variables\n",
    "linregress(X,y)"
   ]
  },
  {
   "cell_type": "code",
   "execution_count": 131,
   "metadata": {},
   "outputs": [
    {
     "data": {
      "text/plain": [
       "count    2.159700e+04\n",
       "mean     5.402966e+05\n",
       "std      2.578621e+05\n",
       "min      5.993042e+04\n",
       "25%      3.576452e+05\n",
       "50%      4.924595e+05\n",
       "75%      6.722118e+05\n",
       "max      3.758896e+06\n",
       "Name: sqft_living, dtype: float64"
      ]
     },
     "execution_count": 131,
     "metadata": {},
     "output_type": "execute_result"
    }
   ],
   "source": [
    "#look at our models outputs\n",
    "first_model_y.describe()"
   ]
  },
  {
   "cell_type": "code",
   "execution_count": 132,
   "metadata": {},
   "outputs": [
    {
     "data": {
      "text/html": [
       "<div>\n",
       "<style scoped>\n",
       "    .dataframe tbody tr th:only-of-type {\n",
       "        vertical-align: middle;\n",
       "    }\n",
       "\n",
       "    .dataframe tbody tr th {\n",
       "        vertical-align: top;\n",
       "    }\n",
       "\n",
       "    .dataframe thead th {\n",
       "        text-align: right;\n",
       "    }\n",
       "</style>\n",
       "<table border=\"1\" class=\"dataframe\">\n",
       "  <thead>\n",
       "    <tr style=\"text-align: right;\">\n",
       "      <th></th>\n",
       "      <th>id</th>\n",
       "      <th>date</th>\n",
       "      <th>price</th>\n",
       "      <th>bedrooms</th>\n",
       "      <th>bathrooms</th>\n",
       "      <th>sqft_living</th>\n",
       "      <th>sqft_lot</th>\n",
       "      <th>floors</th>\n",
       "      <th>waterfront</th>\n",
       "      <th>view</th>\n",
       "      <th>...</th>\n",
       "      <th>grade</th>\n",
       "      <th>sqft_above</th>\n",
       "      <th>sqft_basement</th>\n",
       "      <th>yr_built</th>\n",
       "      <th>yr_renovated</th>\n",
       "      <th>zipcode</th>\n",
       "      <th>lat</th>\n",
       "      <th>long</th>\n",
       "      <th>sqft_living15</th>\n",
       "      <th>sqft_lot15</th>\n",
       "    </tr>\n",
       "  </thead>\n",
       "  <tbody>\n",
       "    <tr>\n",
       "      <th>5</th>\n",
       "      <td>7237550310</td>\n",
       "      <td>5/12/2014</td>\n",
       "      <td>1230000.0</td>\n",
       "      <td>4</td>\n",
       "      <td>4.50</td>\n",
       "      <td>5420</td>\n",
       "      <td>101930</td>\n",
       "      <td>1.0</td>\n",
       "      <td>0.0</td>\n",
       "      <td>0.0</td>\n",
       "      <td>...</td>\n",
       "      <td>11</td>\n",
       "      <td>3890</td>\n",
       "      <td>1530.0</td>\n",
       "      <td>2001</td>\n",
       "      <td>0.0</td>\n",
       "      <td>98053</td>\n",
       "      <td>47.6561</td>\n",
       "      <td>-122.005</td>\n",
       "      <td>4760</td>\n",
       "      <td>101930</td>\n",
       "    </tr>\n",
       "    <tr>\n",
       "      <th>21</th>\n",
       "      <td>2524049179</td>\n",
       "      <td>8/26/2014</td>\n",
       "      <td>2000000.0</td>\n",
       "      <td>3</td>\n",
       "      <td>2.75</td>\n",
       "      <td>3050</td>\n",
       "      <td>44867</td>\n",
       "      <td>1.0</td>\n",
       "      <td>0.0</td>\n",
       "      <td>4.0</td>\n",
       "      <td>...</td>\n",
       "      <td>9</td>\n",
       "      <td>2330</td>\n",
       "      <td>720.0</td>\n",
       "      <td>1968</td>\n",
       "      <td>0.0</td>\n",
       "      <td>98040</td>\n",
       "      <td>47.5316</td>\n",
       "      <td>-122.233</td>\n",
       "      <td>4110</td>\n",
       "      <td>20336</td>\n",
       "    </tr>\n",
       "    <tr>\n",
       "      <th>26</th>\n",
       "      <td>1794500383</td>\n",
       "      <td>6/26/2014</td>\n",
       "      <td>937000.0</td>\n",
       "      <td>3</td>\n",
       "      <td>1.75</td>\n",
       "      <td>2450</td>\n",
       "      <td>2691</td>\n",
       "      <td>2.0</td>\n",
       "      <td>0.0</td>\n",
       "      <td>0.0</td>\n",
       "      <td>...</td>\n",
       "      <td>8</td>\n",
       "      <td>1750</td>\n",
       "      <td>700.0</td>\n",
       "      <td>1915</td>\n",
       "      <td>NaN</td>\n",
       "      <td>98119</td>\n",
       "      <td>47.6386</td>\n",
       "      <td>-122.360</td>\n",
       "      <td>1760</td>\n",
       "      <td>3573</td>\n",
       "    </tr>\n",
       "    <tr>\n",
       "      <th>29</th>\n",
       "      <td>1873100390</td>\n",
       "      <td>3/2/2015</td>\n",
       "      <td>719000.0</td>\n",
       "      <td>4</td>\n",
       "      <td>2.50</td>\n",
       "      <td>2570</td>\n",
       "      <td>7173</td>\n",
       "      <td>2.0</td>\n",
       "      <td>0.0</td>\n",
       "      <td>0.0</td>\n",
       "      <td>...</td>\n",
       "      <td>8</td>\n",
       "      <td>2570</td>\n",
       "      <td>0.0</td>\n",
       "      <td>2005</td>\n",
       "      <td>0.0</td>\n",
       "      <td>98052</td>\n",
       "      <td>47.7073</td>\n",
       "      <td>-122.110</td>\n",
       "      <td>2630</td>\n",
       "      <td>6026</td>\n",
       "    </tr>\n",
       "    <tr>\n",
       "      <th>32</th>\n",
       "      <td>461000390</td>\n",
       "      <td>6/24/2014</td>\n",
       "      <td>687500.0</td>\n",
       "      <td>4</td>\n",
       "      <td>1.75</td>\n",
       "      <td>2330</td>\n",
       "      <td>5000</td>\n",
       "      <td>1.5</td>\n",
       "      <td>0.0</td>\n",
       "      <td>0.0</td>\n",
       "      <td>...</td>\n",
       "      <td>7</td>\n",
       "      <td>1510</td>\n",
       "      <td>820.0</td>\n",
       "      <td>1929</td>\n",
       "      <td>0.0</td>\n",
       "      <td>98117</td>\n",
       "      <td>47.6823</td>\n",
       "      <td>-122.368</td>\n",
       "      <td>1460</td>\n",
       "      <td>5000</td>\n",
       "    </tr>\n",
       "  </tbody>\n",
       "</table>\n",
       "<p>5 rows × 21 columns</p>\n",
       "</div>"
      ],
      "text/plain": [
       "            id       date      price  bedrooms  bathrooms  sqft_living  \\\n",
       "5   7237550310  5/12/2014  1230000.0         4       4.50         5420   \n",
       "21  2524049179  8/26/2014  2000000.0         3       2.75         3050   \n",
       "26  1794500383  6/26/2014   937000.0         3       1.75         2450   \n",
       "29  1873100390   3/2/2015   719000.0         4       2.50         2570   \n",
       "32   461000390  6/24/2014   687500.0         4       1.75         2330   \n",
       "\n",
       "    sqft_lot  floors  waterfront  view     ...      grade  sqft_above  \\\n",
       "5     101930     1.0         0.0   0.0     ...         11        3890   \n",
       "21     44867     1.0         0.0   4.0     ...          9        2330   \n",
       "26      2691     2.0         0.0   0.0     ...          8        1750   \n",
       "29      7173     2.0         0.0   0.0     ...          8        2570   \n",
       "32      5000     1.5         0.0   0.0     ...          7        1510   \n",
       "\n",
       "    sqft_basement yr_built  yr_renovated  zipcode      lat     long  \\\n",
       "5          1530.0     2001           0.0    98053  47.6561 -122.005   \n",
       "21          720.0     1968           0.0    98040  47.5316 -122.233   \n",
       "26          700.0     1915           NaN    98119  47.6386 -122.360   \n",
       "29            0.0     2005           0.0    98052  47.7073 -122.110   \n",
       "32          820.0     1929           0.0    98117  47.6823 -122.368   \n",
       "\n",
       "    sqft_living15  sqft_lot15  \n",
       "5            4760      101930  \n",
       "21           4110       20336  \n",
       "26           1760        3573  \n",
       "29           2630        6026  \n",
       "32           1460        5000  \n",
       "\n",
       "[5 rows x 21 columns]"
      ]
     },
     "execution_count": 132,
     "metadata": {},
     "output_type": "execute_result"
    }
   ],
   "source": [
    "#find upper quartile\n",
    "df[df.price > 6.722118e+05].head()"
   ]
  },
  {
   "cell_type": "code",
   "execution_count": 133,
   "metadata": {},
   "outputs": [
    {
     "data": {
      "text/html": [
       "<div>\n",
       "<style scoped>\n",
       "    .dataframe tbody tr th:only-of-type {\n",
       "        vertical-align: middle;\n",
       "    }\n",
       "\n",
       "    .dataframe tbody tr th {\n",
       "        vertical-align: top;\n",
       "    }\n",
       "\n",
       "    .dataframe thead th {\n",
       "        text-align: right;\n",
       "    }\n",
       "</style>\n",
       "<table border=\"1\" class=\"dataframe\">\n",
       "  <thead>\n",
       "    <tr style=\"text-align: right;\">\n",
       "      <th></th>\n",
       "      <th>id</th>\n",
       "      <th>date</th>\n",
       "      <th>price</th>\n",
       "      <th>bedrooms</th>\n",
       "      <th>bathrooms</th>\n",
       "      <th>sqft_living</th>\n",
       "      <th>sqft_lot</th>\n",
       "      <th>floors</th>\n",
       "      <th>waterfront</th>\n",
       "      <th>view</th>\n",
       "      <th>...</th>\n",
       "      <th>grade</th>\n",
       "      <th>sqft_above</th>\n",
       "      <th>sqft_basement</th>\n",
       "      <th>yr_built</th>\n",
       "      <th>yr_renovated</th>\n",
       "      <th>zipcode</th>\n",
       "      <th>lat</th>\n",
       "      <th>long</th>\n",
       "      <th>sqft_living15</th>\n",
       "      <th>sqft_lot15</th>\n",
       "    </tr>\n",
       "  </thead>\n",
       "  <tbody>\n",
       "    <tr>\n",
       "      <th>0</th>\n",
       "      <td>7129300520</td>\n",
       "      <td>10/13/2014</td>\n",
       "      <td>221900.0</td>\n",
       "      <td>3</td>\n",
       "      <td>1.00</td>\n",
       "      <td>1180</td>\n",
       "      <td>5650</td>\n",
       "      <td>1.0</td>\n",
       "      <td>NaN</td>\n",
       "      <td>0.0</td>\n",
       "      <td>...</td>\n",
       "      <td>7</td>\n",
       "      <td>1180</td>\n",
       "      <td>0.0</td>\n",
       "      <td>1955</td>\n",
       "      <td>0.0</td>\n",
       "      <td>98178</td>\n",
       "      <td>47.5112</td>\n",
       "      <td>-122.257</td>\n",
       "      <td>1340</td>\n",
       "      <td>5650</td>\n",
       "    </tr>\n",
       "    <tr>\n",
       "      <th>2</th>\n",
       "      <td>5631500400</td>\n",
       "      <td>2/25/2015</td>\n",
       "      <td>180000.0</td>\n",
       "      <td>2</td>\n",
       "      <td>1.00</td>\n",
       "      <td>770</td>\n",
       "      <td>10000</td>\n",
       "      <td>1.0</td>\n",
       "      <td>0.0</td>\n",
       "      <td>0.0</td>\n",
       "      <td>...</td>\n",
       "      <td>6</td>\n",
       "      <td>770</td>\n",
       "      <td>0.0</td>\n",
       "      <td>1933</td>\n",
       "      <td>NaN</td>\n",
       "      <td>98028</td>\n",
       "      <td>47.7379</td>\n",
       "      <td>-122.233</td>\n",
       "      <td>2720</td>\n",
       "      <td>8062</td>\n",
       "    </tr>\n",
       "    <tr>\n",
       "      <th>6</th>\n",
       "      <td>1321400060</td>\n",
       "      <td>6/27/2014</td>\n",
       "      <td>257500.0</td>\n",
       "      <td>3</td>\n",
       "      <td>2.25</td>\n",
       "      <td>1715</td>\n",
       "      <td>6819</td>\n",
       "      <td>2.0</td>\n",
       "      <td>0.0</td>\n",
       "      <td>0.0</td>\n",
       "      <td>...</td>\n",
       "      <td>7</td>\n",
       "      <td>1715</td>\n",
       "      <td>?</td>\n",
       "      <td>1995</td>\n",
       "      <td>0.0</td>\n",
       "      <td>98003</td>\n",
       "      <td>47.3097</td>\n",
       "      <td>-122.327</td>\n",
       "      <td>2238</td>\n",
       "      <td>6819</td>\n",
       "    </tr>\n",
       "    <tr>\n",
       "      <th>7</th>\n",
       "      <td>2008000270</td>\n",
       "      <td>1/15/2015</td>\n",
       "      <td>291850.0</td>\n",
       "      <td>3</td>\n",
       "      <td>1.50</td>\n",
       "      <td>1060</td>\n",
       "      <td>9711</td>\n",
       "      <td>1.0</td>\n",
       "      <td>0.0</td>\n",
       "      <td>NaN</td>\n",
       "      <td>...</td>\n",
       "      <td>7</td>\n",
       "      <td>1060</td>\n",
       "      <td>0.0</td>\n",
       "      <td>1963</td>\n",
       "      <td>0.0</td>\n",
       "      <td>98198</td>\n",
       "      <td>47.4095</td>\n",
       "      <td>-122.315</td>\n",
       "      <td>1650</td>\n",
       "      <td>9711</td>\n",
       "    </tr>\n",
       "    <tr>\n",
       "      <th>8</th>\n",
       "      <td>2414600126</td>\n",
       "      <td>4/15/2015</td>\n",
       "      <td>229500.0</td>\n",
       "      <td>3</td>\n",
       "      <td>1.00</td>\n",
       "      <td>1780</td>\n",
       "      <td>7470</td>\n",
       "      <td>1.0</td>\n",
       "      <td>0.0</td>\n",
       "      <td>0.0</td>\n",
       "      <td>...</td>\n",
       "      <td>7</td>\n",
       "      <td>1050</td>\n",
       "      <td>730.0</td>\n",
       "      <td>1960</td>\n",
       "      <td>0.0</td>\n",
       "      <td>98146</td>\n",
       "      <td>47.5123</td>\n",
       "      <td>-122.337</td>\n",
       "      <td>1780</td>\n",
       "      <td>8113</td>\n",
       "    </tr>\n",
       "  </tbody>\n",
       "</table>\n",
       "<p>5 rows × 21 columns</p>\n",
       "</div>"
      ],
      "text/plain": [
       "           id        date     price  bedrooms  bathrooms  sqft_living  \\\n",
       "0  7129300520  10/13/2014  221900.0         3       1.00         1180   \n",
       "2  5631500400   2/25/2015  180000.0         2       1.00          770   \n",
       "6  1321400060   6/27/2014  257500.0         3       2.25         1715   \n",
       "7  2008000270   1/15/2015  291850.0         3       1.50         1060   \n",
       "8  2414600126   4/15/2015  229500.0         3       1.00         1780   \n",
       "\n",
       "   sqft_lot  floors  waterfront  view     ...      grade  sqft_above  \\\n",
       "0      5650     1.0         NaN   0.0     ...          7        1180   \n",
       "2     10000     1.0         0.0   0.0     ...          6         770   \n",
       "6      6819     2.0         0.0   0.0     ...          7        1715   \n",
       "7      9711     1.0         0.0   NaN     ...          7        1060   \n",
       "8      7470     1.0         0.0   0.0     ...          7        1050   \n",
       "\n",
       "   sqft_basement yr_built  yr_renovated  zipcode      lat     long  \\\n",
       "0            0.0     1955           0.0    98178  47.5112 -122.257   \n",
       "2            0.0     1933           NaN    98028  47.7379 -122.233   \n",
       "6              ?     1995           0.0    98003  47.3097 -122.327   \n",
       "7            0.0     1963           0.0    98198  47.4095 -122.315   \n",
       "8          730.0     1960           0.0    98146  47.5123 -122.337   \n",
       "\n",
       "   sqft_living15  sqft_lot15  \n",
       "0           1340        5650  \n",
       "2           2720        8062  \n",
       "6           2238        6819  \n",
       "7           1650        9711  \n",
       "8           1780        8113  \n",
       "\n",
       "[5 rows x 21 columns]"
      ]
     },
     "execution_count": 133,
     "metadata": {},
     "output_type": "execute_result"
    }
   ],
   "source": [
    "#find the lower quartile\n",
    "df[df.price < 3.576452e+05].head()"
   ]
  },
  {
   "cell_type": "code",
   "execution_count": 134,
   "metadata": {},
   "outputs": [
    {
     "data": {
      "text/plain": [
       "8085      9640\n",
       "9245      9890\n",
       "3910     10040\n",
       "7245     12050\n",
       "12764    13540\n",
       "Name: sqft_living, dtype: int64"
      ]
     },
     "execution_count": 134,
     "metadata": {},
     "output_type": "execute_result"
    }
   ],
   "source": [
    "#look at the low end of square foot\n",
    "df.sqft_living.sort_values().tail()"
   ]
  },
  {
   "cell_type": "code",
   "execution_count": 135,
   "metadata": {},
   "outputs": [],
   "source": [
    "#drop our first outlier\n",
    "df = df.drop(index=12764)"
   ]
  },
  {
   "cell_type": "code",
   "execution_count": 136,
   "metadata": {},
   "outputs": [
    {
     "data": {
      "text/html": [
       "<div>\n",
       "<style scoped>\n",
       "    .dataframe tbody tr th:only-of-type {\n",
       "        vertical-align: middle;\n",
       "    }\n",
       "\n",
       "    .dataframe tbody tr th {\n",
       "        vertical-align: top;\n",
       "    }\n",
       "\n",
       "    .dataframe thead th {\n",
       "        text-align: right;\n",
       "    }\n",
       "</style>\n",
       "<table border=\"1\" class=\"dataframe\">\n",
       "  <thead>\n",
       "    <tr style=\"text-align: right;\">\n",
       "      <th></th>\n",
       "      <th>id</th>\n",
       "      <th>date</th>\n",
       "      <th>price</th>\n",
       "      <th>bedrooms</th>\n",
       "      <th>bathrooms</th>\n",
       "      <th>sqft_living</th>\n",
       "      <th>sqft_lot</th>\n",
       "      <th>floors</th>\n",
       "      <th>waterfront</th>\n",
       "      <th>view</th>\n",
       "      <th>...</th>\n",
       "      <th>grade</th>\n",
       "      <th>sqft_above</th>\n",
       "      <th>sqft_basement</th>\n",
       "      <th>yr_built</th>\n",
       "      <th>yr_renovated</th>\n",
       "      <th>zipcode</th>\n",
       "      <th>lat</th>\n",
       "      <th>long</th>\n",
       "      <th>sqft_living15</th>\n",
       "      <th>sqft_lot15</th>\n",
       "    </tr>\n",
       "  </thead>\n",
       "  <tbody>\n",
       "  </tbody>\n",
       "</table>\n",
       "<p>0 rows × 21 columns</p>\n",
       "</div>"
      ],
      "text/plain": [
       "Empty DataFrame\n",
       "Columns: [id, date, price, bedrooms, bathrooms, sqft_living, sqft_lot, floors, waterfront, view, condition, grade, sqft_above, sqft_basement, yr_built, yr_renovated, zipcode, lat, long, sqft_living15, sqft_lot15]\n",
       "Index: []\n",
       "\n",
       "[0 rows x 21 columns]"
      ]
     },
     "execution_count": 136,
     "metadata": {},
     "output_type": "execute_result"
    }
   ],
   "source": [
    "#check to make sure it's gone\n",
    "df.loc[df.index == 12764]"
   ]
  },
  {
   "cell_type": "code",
   "execution_count": 137,
   "metadata": {},
   "outputs": [],
   "source": [
    "#finding many outliers\n",
    "remove_outliers = df.loc[(df.price >= 4500000) & (df.sqft_living >= 8000)].index"
   ]
  },
  {
   "cell_type": "code",
   "execution_count": 138,
   "metadata": {},
   "outputs": [],
   "source": [
    "#remove those many outliers\n",
    "df = df.drop(index=remove_outliers)"
   ]
  },
  {
   "cell_type": "code",
   "execution_count": 139,
   "metadata": {},
   "outputs": [
    {
     "name": "stdout",
     "output_type": "stream",
     "text": [
      "LinregressResult(slope=271.48382562201607, intercept=-25542.826878536027, rvalue=0.6956774973134765, pvalue=0.0, stderr=1.9080006609072122)\n"
     ]
    },
    {
     "data": {
      "image/png": "[encoded data removed]",
      "text/plain": [
       "<Figure size 864x576 with 1 Axes>"
      ]
     },
     "metadata": {
      "needs_background": "light"
     },
     "output_type": "display_data"
    }
   ],
   "source": [
    "#see our new regression now that many extravaganatly\n",
    "#large and expensive houses have been removed\n",
    "X = df.sqft_living\n",
    "y = df.price\n",
    "\n",
    "slope, intercept, rvalue, pvalue, stderr = linregress(X,y)\n",
    "\n",
    "first_model_y = slope*X + intercept\n",
    "\n",
    "print(linregress(X,y))\n",
    "\n",
    "fig = plt.figure(figsize=(12,8))\n",
    "plt.scatter(X,y, alpha=0.05)\n",
    "plt.plot(X, first_model_y, color='red')\n",
    "plt.xlabel('living space square footage',fontsize=25)\n",
    "plt.ylabel('Price as an output of living space',fontsize=25)\n",
    "plt.show()"
   ]
  },
  {
   "cell_type": "code",
   "execution_count": 140,
   "metadata": {},
   "outputs": [],
   "source": [
    "#write a function to return a prediction based on square footage\n",
    "def return_predicted_value(x, slope, intercept):\n",
    "    return slope*x + intercept"
   ]
  },
  {
   "cell_type": "code",
   "execution_count": 141,
   "metadata": {},
   "outputs": [
    {
     "data": {
      "text/plain": [
       "2146327.7780975928"
      ]
     },
     "execution_count": 141,
     "metadata": {},
     "output_type": "execute_result"
    }
   ],
   "source": [
    "#see our results\n",
    "return_predicted_value(8000, slope, intercept)"
   ]
  },
  {
   "cell_type": "code",
   "execution_count": 142,
   "metadata": {},
   "outputs": [
    {
     "data": {
      "text/plain": [
       "47.5322    17\n",
       "47.6846    17\n",
       "47.6624    17\n",
       "47.5491    17\n",
       "47.6886    16\n",
       "Name: lat, dtype: int64"
      ]
     },
     "execution_count": 142,
     "metadata": {},
     "output_type": "execute_result"
    }
   ],
   "source": [
    "#look at our latitudes\n",
    "df.lat.value_counts().head()"
   ]
  },
  {
   "cell_type": "code",
   "execution_count": 143,
   "metadata": {
    "scrolled": true
   },
   "outputs": [
    {
     "data": {
      "text/plain": [
       "-122.290    115\n",
       "-122.300    111\n",
       "-122.362    104\n",
       "-122.291    100\n",
       "-122.372     99\n",
       "Name: long, dtype: int64"
      ]
     },
     "execution_count": 143,
     "metadata": {},
     "output_type": "execute_result"
    }
   ],
   "source": [
    "#look at our longitudes\n",
    "df.long.value_counts().head()"
   ]
  },
  {
   "cell_type": "markdown",
   "metadata": {},
   "source": [
    "# save this for tomorrow"
   ]
  },
  {
   "cell_type": "code",
   "execution_count": 144,
   "metadata": {
    "scrolled": false
   },
   "outputs": [],
   "source": [
    "#plot = df.plot(kind='scatter', x='long', y='lat', alpha=0.15, figsize=(10,10))\n",
    "#points = list(zip(df.lat,df.long))\n",
    "#m = folium.Map([47.53, -122.3], zoom_start=10)\n",
    "#for point in points:\n",
    "#    folium.CircleMarker(point[:500],\n",
    "#                        radius=1,\n",
    "#                        popup= 'point',\n",
    "#                        fill_color=\"#3db7e4\").add_to(m)\n",
    "#m"
   ]
  },
  {
   "cell_type": "code",
   "execution_count": 145,
   "metadata": {},
   "outputs": [
    {
     "data": {
      "text/html": [
       "<div>\n",
       "<style scoped>\n",
       "    .dataframe tbody tr th:only-of-type {\n",
       "        vertical-align: middle;\n",
       "    }\n",
       "\n",
       "    .dataframe tbody tr th {\n",
       "        vertical-align: top;\n",
       "    }\n",
       "\n",
       "    .dataframe thead th {\n",
       "        text-align: right;\n",
       "    }\n",
       "</style>\n",
       "<table border=\"1\" class=\"dataframe\">\n",
       "  <thead>\n",
       "    <tr style=\"text-align: right;\">\n",
       "      <th></th>\n",
       "      <th>0</th>\n",
       "      <th>1</th>\n",
       "      <th>2</th>\n",
       "      <th>3</th>\n",
       "      <th>4</th>\n",
       "    </tr>\n",
       "  </thead>\n",
       "  <tbody>\n",
       "    <tr>\n",
       "      <th>id</th>\n",
       "      <td>7129300520</td>\n",
       "      <td>6414100192</td>\n",
       "      <td>5631500400</td>\n",
       "      <td>2487200875</td>\n",
       "      <td>1954400510</td>\n",
       "    </tr>\n",
       "    <tr>\n",
       "      <th>date</th>\n",
       "      <td>10/13/2014</td>\n",
       "      <td>12/9/2014</td>\n",
       "      <td>2/25/2015</td>\n",
       "      <td>12/9/2014</td>\n",
       "      <td>2/18/2015</td>\n",
       "    </tr>\n",
       "    <tr>\n",
       "      <th>price</th>\n",
       "      <td>221900</td>\n",
       "      <td>538000</td>\n",
       "      <td>180000</td>\n",
       "      <td>604000</td>\n",
       "      <td>510000</td>\n",
       "    </tr>\n",
       "    <tr>\n",
       "      <th>bedrooms</th>\n",
       "      <td>3</td>\n",
       "      <td>3</td>\n",
       "      <td>2</td>\n",
       "      <td>4</td>\n",
       "      <td>3</td>\n",
       "    </tr>\n",
       "    <tr>\n",
       "      <th>bathrooms</th>\n",
       "      <td>1</td>\n",
       "      <td>2.25</td>\n",
       "      <td>1</td>\n",
       "      <td>3</td>\n",
       "      <td>2</td>\n",
       "    </tr>\n",
       "    <tr>\n",
       "      <th>sqft_living</th>\n",
       "      <td>1180</td>\n",
       "      <td>2570</td>\n",
       "      <td>770</td>\n",
       "      <td>1960</td>\n",
       "      <td>1680</td>\n",
       "    </tr>\n",
       "    <tr>\n",
       "      <th>sqft_lot</th>\n",
       "      <td>5650</td>\n",
       "      <td>7242</td>\n",
       "      <td>10000</td>\n",
       "      <td>5000</td>\n",
       "      <td>8080</td>\n",
       "    </tr>\n",
       "    <tr>\n",
       "      <th>floors</th>\n",
       "      <td>1</td>\n",
       "      <td>2</td>\n",
       "      <td>1</td>\n",
       "      <td>1</td>\n",
       "      <td>1</td>\n",
       "    </tr>\n",
       "    <tr>\n",
       "      <th>waterfront</th>\n",
       "      <td>NaN</td>\n",
       "      <td>0</td>\n",
       "      <td>0</td>\n",
       "      <td>0</td>\n",
       "      <td>0</td>\n",
       "    </tr>\n",
       "    <tr>\n",
       "      <th>view</th>\n",
       "      <td>0</td>\n",
       "      <td>0</td>\n",
       "      <td>0</td>\n",
       "      <td>0</td>\n",
       "      <td>0</td>\n",
       "    </tr>\n",
       "    <tr>\n",
       "      <th>condition</th>\n",
       "      <td>3</td>\n",
       "      <td>3</td>\n",
       "      <td>3</td>\n",
       "      <td>5</td>\n",
       "      <td>3</td>\n",
       "    </tr>\n",
       "    <tr>\n",
       "      <th>grade</th>\n",
       "      <td>7</td>\n",
       "      <td>7</td>\n",
       "      <td>6</td>\n",
       "      <td>7</td>\n",
       "      <td>8</td>\n",
       "    </tr>\n",
       "    <tr>\n",
       "      <th>sqft_above</th>\n",
       "      <td>1180</td>\n",
       "      <td>2170</td>\n",
       "      <td>770</td>\n",
       "      <td>1050</td>\n",
       "      <td>1680</td>\n",
       "    </tr>\n",
       "    <tr>\n",
       "      <th>sqft_basement</th>\n",
       "      <td>0.0</td>\n",
       "      <td>400.0</td>\n",
       "      <td>0.0</td>\n",
       "      <td>910.0</td>\n",
       "      <td>0.0</td>\n",
       "    </tr>\n",
       "    <tr>\n",
       "      <th>yr_built</th>\n",
       "      <td>1955</td>\n",
       "      <td>1951</td>\n",
       "      <td>1933</td>\n",
       "      <td>1965</td>\n",
       "      <td>1987</td>\n",
       "    </tr>\n",
       "    <tr>\n",
       "      <th>yr_renovated</th>\n",
       "      <td>0</td>\n",
       "      <td>1991</td>\n",
       "      <td>NaN</td>\n",
       "      <td>0</td>\n",
       "      <td>0</td>\n",
       "    </tr>\n",
       "    <tr>\n",
       "      <th>zipcode</th>\n",
       "      <td>98178</td>\n",
       "      <td>98125</td>\n",
       "      <td>98028</td>\n",
       "      <td>98136</td>\n",
       "      <td>98074</td>\n",
       "    </tr>\n",
       "    <tr>\n",
       "      <th>lat</th>\n",
       "      <td>47.5112</td>\n",
       "      <td>47.721</td>\n",
       "      <td>47.7379</td>\n",
       "      <td>47.5208</td>\n",
       "      <td>47.6168</td>\n",
       "    </tr>\n",
       "    <tr>\n",
       "      <th>long</th>\n",
       "      <td>-122.257</td>\n",
       "      <td>-122.319</td>\n",
       "      <td>-122.233</td>\n",
       "      <td>-122.393</td>\n",
       "      <td>-122.045</td>\n",
       "    </tr>\n",
       "    <tr>\n",
       "      <th>sqft_living15</th>\n",
       "      <td>1340</td>\n",
       "      <td>1690</td>\n",
       "      <td>2720</td>\n",
       "      <td>1360</td>\n",
       "      <td>1800</td>\n",
       "    </tr>\n",
       "    <tr>\n",
       "      <th>sqft_lot15</th>\n",
       "      <td>5650</td>\n",
       "      <td>7639</td>\n",
       "      <td>8062</td>\n",
       "      <td>5000</td>\n",
       "      <td>7503</td>\n",
       "    </tr>\n",
       "  </tbody>\n",
       "</table>\n",
       "</div>"
      ],
      "text/plain": [
       "                        0           1           2           3           4\n",
       "id             7129300520  6414100192  5631500400  2487200875  1954400510\n",
       "date           10/13/2014   12/9/2014   2/25/2015   12/9/2014   2/18/2015\n",
       "price              221900      538000      180000      604000      510000\n",
       "bedrooms                3           3           2           4           3\n",
       "bathrooms               1        2.25           1           3           2\n",
       "sqft_living          1180        2570         770        1960        1680\n",
       "sqft_lot             5650        7242       10000        5000        8080\n",
       "floors                  1           2           1           1           1\n",
       "waterfront            NaN           0           0           0           0\n",
       "view                    0           0           0           0           0\n",
       "condition               3           3           3           5           3\n",
       "grade                   7           7           6           7           8\n",
       "sqft_above           1180        2170         770        1050        1680\n",
       "sqft_basement         0.0       400.0         0.0       910.0         0.0\n",
       "yr_built             1955        1951        1933        1965        1987\n",
       "yr_renovated            0        1991         NaN           0           0\n",
       "zipcode             98178       98125       98028       98136       98074\n",
       "lat               47.5112      47.721     47.7379     47.5208     47.6168\n",
       "long             -122.257    -122.319    -122.233    -122.393    -122.045\n",
       "sqft_living15        1340        1690        2720        1360        1800\n",
       "sqft_lot15           5650        7639        8062        5000        7503"
      ]
     },
     "execution_count": 145,
     "metadata": {},
     "output_type": "execute_result"
    }
   ],
   "source": [
    "#check the column names\n",
    "df.head().T"
   ]
  },
  {
   "cell_type": "code",
   "execution_count": 146,
   "metadata": {},
   "outputs": [
    {
     "data": {
      "text/plain": [
       "Index(['id', 'date', 'price', 'bedrooms', 'bathrooms', 'sqft_living',\n",
       "       'sqft_lot', 'floors', 'waterfront', 'view', 'condition', 'grade',\n",
       "       'sqft_above', 'sqft_basement', 'years_old', 'yr_renovated', 'zipcode',\n",
       "       'lat', 'long', 'sqft_living15', 'sqft_lot15'],\n",
       "      dtype='object')"
      ]
     },
     "execution_count": 146,
     "metadata": {},
     "output_type": "execute_result"
    }
   ],
   "source": [
    "#change year built to years old\n",
    "df.yr_built = 2019 - df.yr_built\n",
    "\n",
    "df = df.rename(columns={'yr_built': 'years_old'})\n",
    "\n",
    "df.columns"
   ]
  },
  {
   "cell_type": "code",
   "execution_count": 147,
   "metadata": {
    "scrolled": true
   },
   "outputs": [],
   "source": [
    "# _ = pd.plotting.scatter_matrix(df[['price', 'bedrooms', 'bathrooms', \n",
    "#                                   'sqft_living', 'floors', 'waterfront', \n",
    "#                                   'view', 'condition', 'years_old']], figsize=(12, 12))"
   ]
  },
  {
   "cell_type": "code",
   "execution_count": 148,
   "metadata": {},
   "outputs": [],
   "source": [
    "def do_predict(X, y):\n",
    "    \"\"\"Takes array like objects for X and y\"\"\"\n",
    "    \n",
    "    #run a train test split on our variables\n",
    "    X_train, X_test, y_train, y_test = train_test_split(X, y,\n",
    "                                                       test_size=0.2,\n",
    "                                                       random_state=27)\n",
    "    #perform our regression and fit\n",
    "    lr = LinearRegression()\n",
    "    lr.fit(X_train, y_train)\n",
    "    \n",
    "    #set a variable to our r squared for our test set\n",
    "    r2_score = lr.score(X_test, y_test)\n",
    "    \n",
    "    #set a variable to our test prediction\n",
    "    y_pred = lr.predict(X_test)\n",
    "    \n",
    "    #variable for mean squared error\n",
    "    mse = mean_squared_error(y_test, y_pred)\n",
    "    \n",
    "    #variable for our root mean squared error\n",
    "    rmse = np.sqrt(mse)\n",
    "    \n",
    "    #perform a cross validation with our data set\n",
    "    scores = cross_val_score(lr, X, y,\n",
    "                            scoring='neg_mean_squared_error', cv=10)\n",
    "    \n",
    "    #root mean squared error result of our cross validation\n",
    "    rmse_scores = np.sqrt(-scores)\n",
    "    \n",
    "    \n",
    "    #return a dictionary with our final values\n",
    "    return lr, {'R2':  r2_score,\n",
    "            'RMSE':  rmse,\n",
    "            'RMSE_SCORES':   rmse_scores,\n",
    "            'Mean':  rmse_scores.mean(),\n",
    "            'Std':  rmse_scores.std()\n",
    "            }"
   ]
  },
  {
   "cell_type": "code",
   "execution_count": 149,
   "metadata": {},
   "outputs": [],
   "source": [
    "#data cleaning\n",
    "\n",
    "df.view.replace(to_replace=np.NaN, value=0, inplace=True)\n",
    "df.sqft_basement.replace(to_replace='?', value=0, inplace=True)\n",
    "df.sqft_basement = df.sqft_basement.astype('float64')\n",
    "df.waterfront.replace(to_replace=np.NaN, value=0, inplace=True)\n",
    "df.yr_renovated.replace(to_replace=np.NaN, value=0, inplace=True)"
   ]
  },
  {
   "cell_type": "code",
   "execution_count": 150,
   "metadata": {},
   "outputs": [],
   "source": [
    "#set variables for our model\n",
    "X = df.drop(columns=['price','date','id','yr_renovated'], axis=1)\n",
    "y = df.price"
   ]
  },
  {
   "cell_type": "markdown",
   "metadata": {},
   "source": [
    "# Goals:\n",
    "day 2: try multivariable regression with variables that have low multicolinearity, try to build a function that finds how far away it is from here. do some more data exploration and cleaning. work zipcodes into dummy columns so we can see things like price by zipcode. treat building grade as catagorical if it's not already. for now we will base off of rmse"
   ]
  },
  {
   "cell_type": "code",
   "execution_count": 151,
   "metadata": {},
   "outputs": [
    {
     "data": {
      "text/plain": [
       "<matplotlib.axes._subplots.AxesSubplot at 0x1a23d5c390>"
      ]
     },
     "execution_count": 151,
     "metadata": {},
     "output_type": "execute_result"
    },
    {
     "data": {
      "image/png": "[encoded data removed]",
      "text/plain": [
       "<Figure size 432x288 with 2 Axes>"
      ]
     },
     "metadata": {
      "needs_background": "light"
     },
     "output_type": "display_data"
    }
   ],
   "source": [
    "#look for multicolinearity\n",
    "sns.heatmap(X.corr())"
   ]
  },
  {
   "cell_type": "markdown",
   "metadata": {},
   "source": [
    "things that we're not using: bathrooms, bedrooms, sqft_living_15"
   ]
  },
  {
   "cell_type": "markdown",
   "metadata": {},
   "source": [
    "things to include: sqft_living, condition,view,waterfront,"
   ]
  },
  {
   "cell_type": "code",
   "execution_count": 152,
   "metadata": {
    "scrolled": false
   },
   "outputs": [
    {
     "name": "stdout",
     "output_type": "stream",
     "text": [
      "(LinearRegression(copy_X=True, fit_intercept=True, n_jobs=None,\n",
      "         normalize=False), {'R2': 0.7039904343806925, 'RMSE': 188196.97684529508, 'RMSE_SCORES': array([193120.60459392, 201651.60523073, 175431.96990221, 200697.99867921,\n",
      "       164628.95314942, 190268.24030927, 186351.25707596, 196480.29238917,\n",
      "       202779.68488868, 214156.02580165]), 'Mean': 192556.66320202182, 'Std': 13611.432330162374})\n"
     ]
    }
   ],
   "source": [
    "#check our results\n",
    "print(do_predict(X,y))"
   ]
  },
  {
   "cell_type": "code",
   "execution_count": 153,
   "metadata": {},
   "outputs": [],
   "source": [
    "#set different predictors\n",
    "X = df.drop(columns=['price','date','id','yr_renovated','years_old', 'floors', 'sqft_above'], axis=1)\n",
    "y = df.price"
   ]
  },
  {
   "cell_type": "code",
   "execution_count": 154,
   "metadata": {},
   "outputs": [
    {
     "data": {
      "text/plain": [
       "(LinearRegression(copy_X=True, fit_intercept=True, n_jobs=None,\n",
       "          normalize=False),\n",
       " {'R2': 0.6811718197283265,\n",
       "  'RMSE': 195316.13430102245,\n",
       "  'RMSE_SCORES': array([201169.13767319, 210664.40045781, 185498.46886755, 208390.11448466,\n",
       "         173929.75492843, 197809.22124177, 195521.58372001, 203801.2872722 ,\n",
       "         210689.08421933, 209111.16347003]),\n",
       "  'Mean': 199658.42163349787,\n",
       "  'Std': 11449.24013486175})"
      ]
     },
     "execution_count": 154,
     "metadata": {},
     "output_type": "execute_result"
    }
   ],
   "source": [
    "#try again\n",
    "do_predict(X,y)"
   ]
  },
  {
   "cell_type": "code",
   "execution_count": 155,
   "metadata": {},
   "outputs": [],
   "source": [
    "#do a straight up simple linear regression\n",
    "X = df.loc[:,['sqft_living']]\n",
    "y = df.price"
   ]
  },
  {
   "cell_type": "code",
   "execution_count": 156,
   "metadata": {},
   "outputs": [
    {
     "data": {
      "text/plain": [
       "(LinearRegression(copy_X=True, fit_intercept=True, n_jobs=None,\n",
       "          normalize=False),\n",
       " {'R2': 0.4907616031350701,\n",
       "  'RMSE': 246842.73007882628,\n",
       "  'RMSE_SCORES': array([257449.79572394, 265579.77714454, 238808.82691858, 263302.59132767,\n",
       "         227291.57558004, 246712.89805713, 247562.11331225, 259454.31635127,\n",
       "         262030.63588889, 266349.61207982]),\n",
       "  'Mean': 253454.2142384131,\n",
       "  'Std': 12308.392365238155})"
      ]
     },
     "execution_count": 156,
     "metadata": {},
     "output_type": "execute_result"
    }
   ],
   "source": [
    "#compare our results\n",
    "do_predict(X,y)"
   ]
  },
  {
   "cell_type": "code",
   "execution_count": 157,
   "metadata": {},
   "outputs": [
    {
     "data": {
      "text/plain": [
       "70"
      ]
     },
     "execution_count": 157,
     "metadata": {},
     "output_type": "execute_result"
    }
   ],
   "source": [
    "#how many different zipcodes do we have?\n",
    "df.zipcode.value_counts().size"
   ]
  },
  {
   "cell_type": "code",
   "execution_count": 158,
   "metadata": {},
   "outputs": [],
   "source": [
    "#make a new column for seattle zip codes\n",
    "df['Seattle_zip'] = 0"
   ]
  },
  {
   "cell_type": "code",
   "execution_count": 159,
   "metadata": {},
   "outputs": [],
   "source": [
    "#try yet more different variables\n",
    "X = df.loc[:,['sqft_living','condition', 'view', 'waterfront']]\n",
    "y = df.price"
   ]
  },
  {
   "cell_type": "code",
   "execution_count": 160,
   "metadata": {},
   "outputs": [
    {
     "data": {
      "text/plain": [
       "(LinearRegression(copy_X=True, fit_intercept=True, n_jobs=None,\n",
       "          normalize=False),\n",
       " {'R2': 0.5530912321545016,\n",
       "  'RMSE': 231243.3261214612,\n",
       "  'RMSE_SCORES': array([234837.94652397, 249179.83681749, 222548.99984054, 245857.77152977,\n",
       "         214573.14555829, 233199.61641218, 233578.96292344, 243138.77516911,\n",
       "         246781.12685435, 253451.69245633]),\n",
       "  'Mean': 237714.78740854803,\n",
       "  'Std': 11697.557906935372})"
      ]
     },
     "execution_count": 160,
     "metadata": {},
     "output_type": "execute_result"
    }
   ],
   "source": [
    "#try again\n",
    "do_predict(X,y)"
   ]
  },
  {
   "cell_type": "markdown",
   "metadata": {},
   "source": [
    "# numbers to beat\n",
    "{'R2': 0.7039904343806925, 'RMSE': 188196.97684529508, 'RMSE_SCORES': array([193120.60459392, 201651.60523073, 175431.96990221, 200697.99867921,\n",
    "       164628.95314942, 190268.24030927, 186351.25707596, 196480.29238917,\n",
    "       202779.68488868, 214156.02580165]), 'Mean': 192556.66320202182, 'Std': 13611.432330162374}"
   ]
  },
  {
   "cell_type": "code",
   "execution_count": 161,
   "metadata": {},
   "outputs": [],
   "source": [
    "#lets just pull out all the stops and let everything\n",
    "#be a predictor for price\n",
    "X = df.drop(columns=['price','date','id'], axis=1)\n",
    "y = df.price"
   ]
  },
  {
   "cell_type": "code",
   "execution_count": 162,
   "metadata": {},
   "outputs": [],
   "source": [
    "#let er rip\n",
    "lr, result = do_predict(X,y)"
   ]
  },
  {
   "cell_type": "code",
   "execution_count": 163,
   "metadata": {
    "scrolled": true
   },
   "outputs": [
    {
     "name": "stdout",
     "output_type": "stream",
     "text": [
      "[-2.86831365e+04  3.79444206e+04  1.01921124e+02  1.85538958e-01\n",
      "  1.47307651e+04  6.10593238e+05  5.42252288e+04  2.75075644e+04\n",
      "  1.00720595e+05  5.26541053e+01  2.75163636e+01  2.60767426e+03\n",
      "  2.45866766e+01 -5.61070438e+02  6.03248668e+05 -2.06776097e+05\n",
      "  3.44776309e+01 -3.82456275e-01  0.00000000e+00]\n",
      "{'R2': 0.7037253557350794, 'RMSE': 188281.22384603735, 'RMSE_SCORES': array([193094.97513495, 201458.58781101, 175470.00622116, 200691.85870405,\n",
      "       164226.99066152, 190066.96724787, 186227.73458879, 196292.68913588,\n",
      "       202541.38426585, 214140.93171471]), 'Mean': 192421.21254857752, 'Std': 13659.587426567523}\n"
     ]
    }
   ],
   "source": [
    "#how'd we do?\n",
    "print(lr.coef_)\n",
    "print(result)"
   ]
  },
  {
   "cell_type": "code",
   "execution_count": 164,
   "metadata": {},
   "outputs": [],
   "source": [
    "#funciton for seeing what zip codes are in seattle\n",
    "def is_it_in_seattle(x):\n",
    "    seattle_zip_codes = [98101, 98102, 98104, 98105, 98108, 98109, 98112 ,98113, 98114,\n",
    "                     98117, 98103, 98106, 98107, 98111, 98115, 98116, 98118, 98119,\n",
    "                     98121, 98125, 98126, 98132, 98133, 98138, 98139, 98141, 98122,\n",
    "                     98124, 98127, 98129, 98131, 98134, 98136, 98144, 98145, 98148,\n",
    "                     98155, 98160, 98161, 98164, 98165, 98168, 98170, 98146, 98154,\n",
    "                     98158, 98166, 98174, 98175, 98178, 98190, 98191, 98177, 98181,\n",
    "                     98185, 98188, 98189, 98194, 98195, 98199, 98198]\n",
    "    return x in seattle_zip_codes"
   ]
  },
  {
   "cell_type": "code",
   "execution_count": 165,
   "metadata": {},
   "outputs": [
    {
     "data": {
      "text/plain": [
       "True"
      ]
     },
     "execution_count": 165,
     "metadata": {},
     "output_type": "execute_result"
    }
   ],
   "source": [
    "#test it out\n",
    "is_it_in_seattle(98101)"
   ]
  },
  {
   "cell_type": "code",
   "execution_count": 166,
   "metadata": {},
   "outputs": [],
   "source": [
    "#set our Seattle_zip column to have true values\n",
    "#if the zipcode is indeed in seattle\n",
    "df.loc[df['zipcode'].apply(is_it_in_seattle) == True, 'Seattle_zip'] = 1"
   ]
  },
  {
   "cell_type": "code",
   "execution_count": 167,
   "metadata": {},
   "outputs": [
    {
     "data": {
      "text/plain": [
       "(LinearRegression(copy_X=True, fit_intercept=True, n_jobs=None,\n",
       "          normalize=False),\n",
       " {'R2': 0.5530912321545016,\n",
       "  'RMSE': 231243.3261214612,\n",
       "  'RMSE_SCORES': array([234837.94652397, 249179.83681749, 222548.99984054, 245857.77152977,\n",
       "         214573.14555829, 233199.61641218, 233578.96292344, 243138.77516911,\n",
       "         246781.12685435, 253451.69245633]),\n",
       "  'Mean': 237714.78740854803,\n",
       "  'Std': 11697.557906935372})"
      ]
     },
     "execution_count": 167,
     "metadata": {},
     "output_type": "execute_result"
    }
   ],
   "source": [
    "#you know the drill, different variables, same idea.\n",
    "X = df.loc[:,['sqft_living','condition', 'view', 'waterfront']]\n",
    "y = df.price\n",
    "\n",
    "do_predict(X, y)"
   ]
  },
  {
   "cell_type": "code",
   "execution_count": 168,
   "metadata": {},
   "outputs": [
    {
     "data": {
      "text/plain": [
       "(LinearRegression(copy_X=True, fit_intercept=True, n_jobs=None,\n",
       "          normalize=False),\n",
       " {'R2': 0.5394131799873588,\n",
       "  'RMSE': 212221.02580439238,\n",
       "  'RMSE_SCORES': array([216117.64286664, 241451.30868234, 221212.97782964, 226328.56634387,\n",
       "         214816.67276689, 226922.56177503, 224195.21861831, 224251.1113331 ,\n",
       "         236310.52207928, 201140.78947549]),\n",
       "  'Mean': 223274.73717706045,\n",
       "  'Std': 10684.932728636739})"
      ]
     },
     "execution_count": 168,
     "metadata": {},
     "output_type": "execute_result"
    }
   ],
   "source": [
    "#how well does our model perform on homes only in seattle?\n",
    "X = df.loc[df['Seattle_zip'] == 1,['sqft_living','condition', 'view', 'waterfront']]\n",
    "y = df.price[df['Seattle_zip'] == 1]\n",
    "\n",
    "do_predict(X, y)"
   ]
  },
  {
   "cell_type": "code",
   "execution_count": 169,
   "metadata": {},
   "outputs": [
    {
     "data": {
      "text/plain": [
       "(LinearRegression(copy_X=True, fit_intercept=True, n_jobs=None,\n",
       "          normalize=False),\n",
       " {'R2': 0.5789857080093423,\n",
       "  'RMSE': 234868.52650233018,\n",
       "  'RMSE_SCORES': array([232374.3201982 , 251086.22664367, 221403.22223006, 231585.23310143,\n",
       "         216842.04566723, 229628.47633311, 226998.41190233, 242242.02639968,\n",
       "         243562.23068913, 266486.22073857]),\n",
       "  'Mean': 236220.8413903404,\n",
       "  'Std': 14096.170277885016})"
      ]
     },
     "execution_count": 169,
     "metadata": {},
     "output_type": "execute_result"
    }
   ],
   "source": [
    "#what about only houses 'Outside' of seattle\n",
    "X = df.loc[df['Seattle_zip'] == 0,['sqft_living','condition', 'view', 'waterfront']]\n",
    "y = df.price[df['Seattle_zip'] == 0]\n",
    "\n",
    "do_predict(X, y)"
   ]
  },
  {
   "cell_type": "code",
   "execution_count": 170,
   "metadata": {},
   "outputs": [],
   "source": [
    "#use sql commands to call on rows by one zipcode.\n",
    "def get_dataframe_by_zip(x):\n",
    "    q = f\"SELECT * FROM df WHERE zipcode={x}\"\n",
    "    return pysqldf(q)\n",
    "    "
   ]
  },
  {
   "cell_type": "code",
   "execution_count": 171,
   "metadata": {},
   "outputs": [],
   "source": [
    "#perform our regression on each individual\n",
    "#zipcode and see how we do\n",
    "zip_result = []\n",
    "for zipcode in df.zipcode.unique():\n",
    "    zip_df = get_dataframe_by_zip(zipcode)\n",
    "    \n",
    "    X = zip_df.drop(columns=['price','date','id'], axis=1)\n",
    "    y = zip_df.price\n",
    "\n",
    "    model, result = do_predict(X, y)\n",
    "    zip_result.append((zipcode, result['Mean']))\n"
   ]
  },
  {
   "cell_type": "code",
   "execution_count": 172,
   "metadata": {},
   "outputs": [
    {
     "data": {
      "text/plain": [
       "[(98178, 69249.16597113227),\n",
       " (98125, 98678.00487904354),\n",
       " (98028, 80457.15139651476),\n",
       " (98136, 116792.5249199261),\n",
       " (98074, 108280.35602517167),\n",
       " (98053, 101001.51581267398),\n",
       " (98003, 50401.73182971057),\n",
       " (98198, 79583.59293074938),\n",
       " (98146, 89589.51915675904),\n",
       " (98038, 61246.23622251976),\n",
       " (98007, 70882.59162944261),\n",
       " (98115, 121696.06066490445),\n",
       " (98107, 139283.5279407823),\n",
       " (98126, 70600.74845586755),\n",
       " (98019, 63869.024488567185),\n",
       " (98103, 105466.4117010654),\n",
       " (98002, 28673.797677121758),\n",
       " (98133, 67238.83677162131),\n",
       " (98040, 261325.60483451298),\n",
       " (98092, 56400.858305981536),\n",
       " (98030, 38962.84887100944),\n",
       " (98119, 213346.60908956872),\n",
       " (98112, 233961.2943522578),\n",
       " (98052, 92779.52277490089),\n",
       " (98027, 123238.1889558922),\n",
       " (98117, 94794.62718782497),\n",
       " (98058, 60375.933570909096),\n",
       " (98001, 46932.58874652117),\n",
       " (98056, 92030.6604441973),\n",
       " (98166, 137991.80713769962),\n",
       " (98023, 55158.86687754097),\n",
       " (98070, 132971.39253971865),\n",
       " (98148, 59953.155332371636),\n",
       " (98105, 151426.66178275383),\n",
       " (98042, 50150.232165010995),\n",
       " (98008, 133458.3771556366),\n",
       " (98059, 79613.01345756806),\n",
       " (98122, 140831.42159677247),\n",
       " (98144, 161351.37909728114),\n",
       " (98004, 264822.214566494),\n",
       " (98005, 146913.01798108718),\n",
       " (98034, 141248.81364022658),\n",
       " (98075, 129065.74675299376),\n",
       " (98116, 109539.21645781472),\n",
       " (98010, 99898.1461537167),\n",
       " (98118, 102471.12920682176),\n",
       " (98199, 190174.29707201436),\n",
       " (98032, 36666.27476720728),\n",
       " (98045, 89796.82612895522),\n",
       " (98102, 202138.92152873005),\n",
       " (98077, 92810.21682085327),\n",
       " (98108, 60149.51138141328),\n",
       " (98168, 46071.27309929331),\n",
       " (98177, 186262.53774668477),\n",
       " (98065, 76096.22986944707),\n",
       " (98029, 102758.45902194045),\n",
       " (98006, 209214.89421809878),\n",
       " (98109, 226163.70050659837),\n",
       " (98022, 49682.53991432865),\n",
       " (98033, 160822.583540969),\n",
       " (98155, 139278.19609907045),\n",
       " (98024, 145567.62677136538),\n",
       " (98011, 67095.76940371933),\n",
       " (98031, 39222.176727326485),\n",
       " (98106, 64538.24059483878),\n",
       " (98072, 94234.40005494856),\n",
       " (98188, 58584.437880455516),\n",
       " (98014, 133516.82712200953),\n",
       " (98055, 54199.05678513817),\n",
       " (98039, 412733.02570642886)]"
      ]
     },
     "execution_count": 172,
     "metadata": {},
     "output_type": "execute_result"
    }
   ],
   "source": [
    "#how'd we do?\n",
    "zip_result"
   ]
  },
  {
   "cell_type": "code",
   "execution_count": 178,
   "metadata": {},
   "outputs": [
    {
     "data": {
      "image/png": "[encoded data removed]",
      "text/plain": [
       "<Figure size 1440x1440 with 1 Axes>"
      ]
     },
     "metadata": {
      "needs_background": "light"
     },
     "output_type": "display_data"
    }
   ],
   "source": [
    "fig, ax = plt.subplots(figsize=(18, 18), dpi=80)\n",
    "\n",
    "zipcodes = []\n",
    "rmses = []\n",
    "for zipcode, mean_rmse in zip_result:\n",
    "    zipcodes.append(zipcode)\n",
    "    rmses.append(mean_rmse)\n",
    "    ax.bar(zipcode, mean_rmse, width=3)\n",
    "\n",
    "ax.set_xbound(lower=98001, upper=df.zipcode.max())\n",
    "rects = ax.patches\n",
    "\n",
    "for rect, label in zip(rects, zipcodes):\n",
    "    height = rect.get_height()\n",
    "    ax.text(rect.get_x() + rect.get_width() / 2, height + 5, label,\n",
    "           ha='center', va='bottom')"
   ]
  },
  {
   "cell_type": "markdown",
   "metadata": {},
   "source": [
    "# goals for tomorrow\n",
    "\n",
    "clean up the jupyter notebook.\n",
    "compare performance in each zip code with overall performance.\n",
    "\n",
    "\n"
   ]
  },
  {
   "cell_type": "code",
   "execution_count": null,
   "metadata": {},
   "outputs": [],
   "source": []
  }
 ],
 "metadata": {
  "kernelspec": {
   "display_name": "Python 3",
   "language": "python",
   "name": "python3"
  },
  "language_info": {
   "codemirror_mode": {
    "name": "ipython",
    "version": 3
   },
   "file_extension": ".py",
   "mimetype": "text/x-python",
   "name": "python",
   "nbconvert_exporter": "python",
   "pygments_lexer": "ipython3",
   "version": "3.6.6"
  }
 },
 "nbformat": 4,
 "nbformat_minor": 2
}
