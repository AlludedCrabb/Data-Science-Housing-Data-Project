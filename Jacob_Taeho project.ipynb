{
 "cells": [
  {
   "cell_type": "markdown",
   "metadata": {},
   "source": [
    "## Final Project Submission\n",
    "\n",
    "Please fill out:\n",
    "* Student name: Jacob Crabb/ Taeho Jeon\n",
    "* Student pace: full time \n",
    "* Instructor name: Greg/Miles\n",
    "* Blog post URL:\n"
   ]
  },
  {
   "cell_type": "code",
   "execution_count": 144,
   "metadata": {},
   "outputs": [],
   "source": [
    "#import our libraries\n",
    "import pandas as pd\n",
    "from pandasql import sqldf\n",
    "import matplotlib.pyplot as plt\n",
    "from scipy.stats import linregress\n",
    "import folium\n",
    "import numpy as np\n",
    "from sklearn.model_selection import train_test_split\n",
    "from sklearn.linear_model import LinearRegression\n",
    "from sklearn.metrics import mean_squared_error\n",
    "from sklearn.model_selection import cross_val_score\n",
    "import seaborn as sns"
   ]
  },
  {
   "cell_type": "code",
   "execution_count": 145,
   "metadata": {},
   "outputs": [],
   "source": [
    "pysqldf = lambda q: sqldf(q, globals())"
   ]
  },
  {
   "cell_type": "code",
   "execution_count": 77,
   "metadata": {},
   "outputs": [],
   "source": [
    "#set our dataframe\n",
    "df = pd.read_csv('kc_house_data.csv')"
   ]
  },
  {
   "cell_type": "code",
   "execution_count": 78,
   "metadata": {},
   "outputs": [
    {
     "name": "stdout",
     "output_type": "stream",
     "text": [
      "[3 5 4 1 2]\n",
      "[ 7  6  8 11  9  5 10 12  4  3 13]\n"
     ]
    }
   ],
   "source": [
    "#check out some of the column values\n",
    "print(df.condition.unique())\n",
    "\n",
    "print(df.grade.unique())"
   ]
  },
  {
   "cell_type": "code",
   "execution_count": 79,
   "metadata": {},
   "outputs": [
    {
     "data": {
      "text/html": [
       "<div>\n",
       "<style scoped>\n",
       "    .dataframe tbody tr th:only-of-type {\n",
       "        vertical-align: middle;\n",
       "    }\n",
       "\n",
       "    .dataframe tbody tr th {\n",
       "        vertical-align: top;\n",
       "    }\n",
       "\n",
       "    .dataframe thead th {\n",
       "        text-align: right;\n",
       "    }\n",
       "</style>\n",
       "<table border=\"1\" class=\"dataframe\">\n",
       "  <thead>\n",
       "    <tr style=\"text-align: right;\">\n",
       "      <th></th>\n",
       "      <th>id</th>\n",
       "      <th>date</th>\n",
       "      <th>price</th>\n",
       "      <th>bedrooms</th>\n",
       "      <th>bathrooms</th>\n",
       "      <th>sqft_living</th>\n",
       "      <th>sqft_lot</th>\n",
       "      <th>floors</th>\n",
       "      <th>waterfront</th>\n",
       "      <th>view</th>\n",
       "      <th>...</th>\n",
       "      <th>grade</th>\n",
       "      <th>sqft_above</th>\n",
       "      <th>sqft_basement</th>\n",
       "      <th>yr_built</th>\n",
       "      <th>yr_renovated</th>\n",
       "      <th>zipcode</th>\n",
       "      <th>lat</th>\n",
       "      <th>long</th>\n",
       "      <th>sqft_living15</th>\n",
       "      <th>sqft_lot15</th>\n",
       "    </tr>\n",
       "  </thead>\n",
       "  <tbody>\n",
       "    <tr>\n",
       "      <th>0</th>\n",
       "      <td>7129300520</td>\n",
       "      <td>10/13/2014</td>\n",
       "      <td>221900.0</td>\n",
       "      <td>3</td>\n",
       "      <td>1.00</td>\n",
       "      <td>1180</td>\n",
       "      <td>5650</td>\n",
       "      <td>1.0</td>\n",
       "      <td>NaN</td>\n",
       "      <td>0.0</td>\n",
       "      <td>...</td>\n",
       "      <td>7</td>\n",
       "      <td>1180</td>\n",
       "      <td>0.0</td>\n",
       "      <td>1955</td>\n",
       "      <td>0.0</td>\n",
       "      <td>98178</td>\n",
       "      <td>47.5112</td>\n",
       "      <td>-122.257</td>\n",
       "      <td>1340</td>\n",
       "      <td>5650</td>\n",
       "    </tr>\n",
       "    <tr>\n",
       "      <th>1</th>\n",
       "      <td>6414100192</td>\n",
       "      <td>12/9/2014</td>\n",
       "      <td>538000.0</td>\n",
       "      <td>3</td>\n",
       "      <td>2.25</td>\n",
       "      <td>2570</td>\n",
       "      <td>7242</td>\n",
       "      <td>2.0</td>\n",
       "      <td>0.0</td>\n",
       "      <td>0.0</td>\n",
       "      <td>...</td>\n",
       "      <td>7</td>\n",
       "      <td>2170</td>\n",
       "      <td>400.0</td>\n",
       "      <td>1951</td>\n",
       "      <td>1991.0</td>\n",
       "      <td>98125</td>\n",
       "      <td>47.7210</td>\n",
       "      <td>-122.319</td>\n",
       "      <td>1690</td>\n",
       "      <td>7639</td>\n",
       "    </tr>\n",
       "    <tr>\n",
       "      <th>2</th>\n",
       "      <td>5631500400</td>\n",
       "      <td>2/25/2015</td>\n",
       "      <td>180000.0</td>\n",
       "      <td>2</td>\n",
       "      <td>1.00</td>\n",
       "      <td>770</td>\n",
       "      <td>10000</td>\n",
       "      <td>1.0</td>\n",
       "      <td>0.0</td>\n",
       "      <td>0.0</td>\n",
       "      <td>...</td>\n",
       "      <td>6</td>\n",
       "      <td>770</td>\n",
       "      <td>0.0</td>\n",
       "      <td>1933</td>\n",
       "      <td>NaN</td>\n",
       "      <td>98028</td>\n",
       "      <td>47.7379</td>\n",
       "      <td>-122.233</td>\n",
       "      <td>2720</td>\n",
       "      <td>8062</td>\n",
       "    </tr>\n",
       "    <tr>\n",
       "      <th>3</th>\n",
       "      <td>2487200875</td>\n",
       "      <td>12/9/2014</td>\n",
       "      <td>604000.0</td>\n",
       "      <td>4</td>\n",
       "      <td>3.00</td>\n",
       "      <td>1960</td>\n",
       "      <td>5000</td>\n",
       "      <td>1.0</td>\n",
       "      <td>0.0</td>\n",
       "      <td>0.0</td>\n",
       "      <td>...</td>\n",
       "      <td>7</td>\n",
       "      <td>1050</td>\n",
       "      <td>910.0</td>\n",
       "      <td>1965</td>\n",
       "      <td>0.0</td>\n",
       "      <td>98136</td>\n",
       "      <td>47.5208</td>\n",
       "      <td>-122.393</td>\n",
       "      <td>1360</td>\n",
       "      <td>5000</td>\n",
       "    </tr>\n",
       "    <tr>\n",
       "      <th>4</th>\n",
       "      <td>1954400510</td>\n",
       "      <td>2/18/2015</td>\n",
       "      <td>510000.0</td>\n",
       "      <td>3</td>\n",
       "      <td>2.00</td>\n",
       "      <td>1680</td>\n",
       "      <td>8080</td>\n",
       "      <td>1.0</td>\n",
       "      <td>0.0</td>\n",
       "      <td>0.0</td>\n",
       "      <td>...</td>\n",
       "      <td>8</td>\n",
       "      <td>1680</td>\n",
       "      <td>0.0</td>\n",
       "      <td>1987</td>\n",
       "      <td>0.0</td>\n",
       "      <td>98074</td>\n",
       "      <td>47.6168</td>\n",
       "      <td>-122.045</td>\n",
       "      <td>1800</td>\n",
       "      <td>7503</td>\n",
       "    </tr>\n",
       "  </tbody>\n",
       "</table>\n",
       "<p>5 rows × 21 columns</p>\n",
       "</div>"
      ],
      "text/plain": [
       "           id        date     price  bedrooms  bathrooms  sqft_living  \\\n",
       "0  7129300520  10/13/2014  221900.0         3       1.00         1180   \n",
       "1  6414100192   12/9/2014  538000.0         3       2.25         2570   \n",
       "2  5631500400   2/25/2015  180000.0         2       1.00          770   \n",
       "3  2487200875   12/9/2014  604000.0         4       3.00         1960   \n",
       "4  1954400510   2/18/2015  510000.0         3       2.00         1680   \n",
       "\n",
       "   sqft_lot  floors  waterfront  view     ...      grade  sqft_above  \\\n",
       "0      5650     1.0         NaN   0.0     ...          7        1180   \n",
       "1      7242     2.0         0.0   0.0     ...          7        2170   \n",
       "2     10000     1.0         0.0   0.0     ...          6         770   \n",
       "3      5000     1.0         0.0   0.0     ...          7        1050   \n",
       "4      8080     1.0         0.0   0.0     ...          8        1680   \n",
       "\n",
       "   sqft_basement yr_built  yr_renovated  zipcode      lat     long  \\\n",
       "0            0.0     1955           0.0    98178  47.5112 -122.257   \n",
       "1          400.0     1951        1991.0    98125  47.7210 -122.319   \n",
       "2            0.0     1933           NaN    98028  47.7379 -122.233   \n",
       "3          910.0     1965           0.0    98136  47.5208 -122.393   \n",
       "4            0.0     1987           0.0    98074  47.6168 -122.045   \n",
       "\n",
       "   sqft_living15  sqft_lot15  \n",
       "0           1340        5650  \n",
       "1           1690        7639  \n",
       "2           2720        8062  \n",
       "3           1360        5000  \n",
       "4           1800        7503  \n",
       "\n",
       "[5 rows x 21 columns]"
      ]
     },
     "execution_count": 79,
     "metadata": {},
     "output_type": "execute_result"
    }
   ],
   "source": [
    "df.head()"
   ]
  },
  {
   "cell_type": "code",
   "execution_count": 80,
   "metadata": {},
   "outputs": [
    {
     "data": {
      "text/html": [
       "<div>\n",
       "<style scoped>\n",
       "    .dataframe tbody tr th:only-of-type {\n",
       "        vertical-align: middle;\n",
       "    }\n",
       "\n",
       "    .dataframe tbody tr th {\n",
       "        vertical-align: top;\n",
       "    }\n",
       "\n",
       "    .dataframe thead th {\n",
       "        text-align: right;\n",
       "    }\n",
       "</style>\n",
       "<table border=\"1\" class=\"dataframe\">\n",
       "  <thead>\n",
       "    <tr style=\"text-align: right;\">\n",
       "      <th></th>\n",
       "      <th>id</th>\n",
       "      <th>price</th>\n",
       "      <th>bedrooms</th>\n",
       "      <th>bathrooms</th>\n",
       "      <th>sqft_living</th>\n",
       "      <th>sqft_lot</th>\n",
       "      <th>floors</th>\n",
       "      <th>waterfront</th>\n",
       "      <th>view</th>\n",
       "      <th>condition</th>\n",
       "      <th>grade</th>\n",
       "      <th>sqft_above</th>\n",
       "      <th>yr_built</th>\n",
       "      <th>yr_renovated</th>\n",
       "      <th>zipcode</th>\n",
       "      <th>lat</th>\n",
       "      <th>long</th>\n",
       "      <th>sqft_living15</th>\n",
       "      <th>sqft_lot15</th>\n",
       "    </tr>\n",
       "  </thead>\n",
       "  <tbody>\n",
       "    <tr>\n",
       "      <th>id</th>\n",
       "      <td>1.000000</td>\n",
       "      <td>-0.016772</td>\n",
       "      <td>0.001150</td>\n",
       "      <td>0.005162</td>\n",
       "      <td>-0.012241</td>\n",
       "      <td>-0.131911</td>\n",
       "      <td>0.018608</td>\n",
       "      <td>-0.004176</td>\n",
       "      <td>0.011592</td>\n",
       "      <td>-0.023803</td>\n",
       "      <td>0.008188</td>\n",
       "      <td>-0.010799</td>\n",
       "      <td>0.021617</td>\n",
       "      <td>-0.012010</td>\n",
       "      <td>-0.008211</td>\n",
       "      <td>-0.001798</td>\n",
       "      <td>0.020672</td>\n",
       "      <td>-0.002701</td>\n",
       "      <td>-0.138557</td>\n",
       "    </tr>\n",
       "    <tr>\n",
       "      <th>price</th>\n",
       "      <td>-0.016772</td>\n",
       "      <td>1.000000</td>\n",
       "      <td>0.308787</td>\n",
       "      <td>0.525906</td>\n",
       "      <td>0.701917</td>\n",
       "      <td>0.089876</td>\n",
       "      <td>0.256804</td>\n",
       "      <td>0.276295</td>\n",
       "      <td>0.395734</td>\n",
       "      <td>0.036056</td>\n",
       "      <td>0.667951</td>\n",
       "      <td>0.605368</td>\n",
       "      <td>0.053953</td>\n",
       "      <td>0.129599</td>\n",
       "      <td>-0.053402</td>\n",
       "      <td>0.306692</td>\n",
       "      <td>0.022036</td>\n",
       "      <td>0.585241</td>\n",
       "      <td>0.082845</td>\n",
       "    </tr>\n",
       "    <tr>\n",
       "      <th>bedrooms</th>\n",
       "      <td>0.001150</td>\n",
       "      <td>0.308787</td>\n",
       "      <td>1.000000</td>\n",
       "      <td>0.514508</td>\n",
       "      <td>0.578212</td>\n",
       "      <td>0.032471</td>\n",
       "      <td>0.177944</td>\n",
       "      <td>-0.002386</td>\n",
       "      <td>0.078523</td>\n",
       "      <td>0.026496</td>\n",
       "      <td>0.356563</td>\n",
       "      <td>0.479386</td>\n",
       "      <td>0.155670</td>\n",
       "      <td>0.018495</td>\n",
       "      <td>-0.154092</td>\n",
       "      <td>-0.009951</td>\n",
       "      <td>0.132054</td>\n",
       "      <td>0.393406</td>\n",
       "      <td>0.030690</td>\n",
       "    </tr>\n",
       "    <tr>\n",
       "      <th>bathrooms</th>\n",
       "      <td>0.005162</td>\n",
       "      <td>0.525906</td>\n",
       "      <td>0.514508</td>\n",
       "      <td>1.000000</td>\n",
       "      <td>0.755758</td>\n",
       "      <td>0.088373</td>\n",
       "      <td>0.502582</td>\n",
       "      <td>0.067282</td>\n",
       "      <td>0.186451</td>\n",
       "      <td>-0.126479</td>\n",
       "      <td>0.665838</td>\n",
       "      <td>0.686668</td>\n",
       "      <td>0.507173</td>\n",
       "      <td>0.051050</td>\n",
       "      <td>-0.204786</td>\n",
       "      <td>0.024280</td>\n",
       "      <td>0.224903</td>\n",
       "      <td>0.569884</td>\n",
       "      <td>0.088303</td>\n",
       "    </tr>\n",
       "    <tr>\n",
       "      <th>sqft_living</th>\n",
       "      <td>-0.012241</td>\n",
       "      <td>0.701917</td>\n",
       "      <td>0.578212</td>\n",
       "      <td>0.755758</td>\n",
       "      <td>1.000000</td>\n",
       "      <td>0.173453</td>\n",
       "      <td>0.353953</td>\n",
       "      <td>0.110230</td>\n",
       "      <td>0.282532</td>\n",
       "      <td>-0.059445</td>\n",
       "      <td>0.762779</td>\n",
       "      <td>0.876448</td>\n",
       "      <td>0.318152</td>\n",
       "      <td>0.055660</td>\n",
       "      <td>-0.199802</td>\n",
       "      <td>0.052155</td>\n",
       "      <td>0.241214</td>\n",
       "      <td>0.756402</td>\n",
       "      <td>0.184342</td>\n",
       "    </tr>\n",
       "  </tbody>\n",
       "</table>\n",
       "</div>"
      ],
      "text/plain": [
       "                   id     price  bedrooms  bathrooms  sqft_living  sqft_lot  \\\n",
       "id           1.000000 -0.016772  0.001150   0.005162    -0.012241 -0.131911   \n",
       "price       -0.016772  1.000000  0.308787   0.525906     0.701917  0.089876   \n",
       "bedrooms     0.001150  0.308787  1.000000   0.514508     0.578212  0.032471   \n",
       "bathrooms    0.005162  0.525906  0.514508   1.000000     0.755758  0.088373   \n",
       "sqft_living -0.012241  0.701917  0.578212   0.755758     1.000000  0.173453   \n",
       "\n",
       "               floors  waterfront      view  condition     grade  sqft_above  \\\n",
       "id           0.018608   -0.004176  0.011592  -0.023803  0.008188   -0.010799   \n",
       "price        0.256804    0.276295  0.395734   0.036056  0.667951    0.605368   \n",
       "bedrooms     0.177944   -0.002386  0.078523   0.026496  0.356563    0.479386   \n",
       "bathrooms    0.502582    0.067282  0.186451  -0.126479  0.665838    0.686668   \n",
       "sqft_living  0.353953    0.110230  0.282532  -0.059445  0.762779    0.876448   \n",
       "\n",
       "             yr_built  yr_renovated   zipcode       lat      long  \\\n",
       "id           0.021617     -0.012010 -0.008211 -0.001798  0.020672   \n",
       "price        0.053953      0.129599 -0.053402  0.306692  0.022036   \n",
       "bedrooms     0.155670      0.018495 -0.154092 -0.009951  0.132054   \n",
       "bathrooms    0.507173      0.051050 -0.204786  0.024280  0.224903   \n",
       "sqft_living  0.318152      0.055660 -0.199802  0.052155  0.241214   \n",
       "\n",
       "             sqft_living15  sqft_lot15  \n",
       "id               -0.002701   -0.138557  \n",
       "price             0.585241    0.082845  \n",
       "bedrooms          0.393406    0.030690  \n",
       "bathrooms         0.569884    0.088303  \n",
       "sqft_living       0.756402    0.184342  "
      ]
     },
     "execution_count": 80,
     "metadata": {},
     "output_type": "execute_result"
    }
   ],
   "source": [
    "#see what relates to what\n",
    "df.corr().head()"
   ]
  },
  {
   "cell_type": "code",
   "execution_count": 81,
   "metadata": {},
   "outputs": [
    {
     "data": {
      "text/plain": [
       "15279    78000.0\n",
       "465      80000.0\n",
       "16184    81000.0\n",
       "8267     82000.0\n",
       "2139     82500.0\n",
       "Name: price, dtype: float64"
      ]
     },
     "execution_count": 81,
     "metadata": {},
     "output_type": "execute_result"
    }
   ],
   "source": [
    "#look at the low end of values\n",
    "df.price.sort_values().head()"
   ]
  },
  {
   "cell_type": "code",
   "execution_count": 82,
   "metadata": {},
   "outputs": [
    {
     "data": {
      "text/plain": [
       "0"
      ]
     },
     "execution_count": 82,
     "metadata": {},
     "output_type": "execute_result"
    }
   ],
   "source": [
    "#make sure that all the values are numbers\n",
    "df.price.isna().sum()"
   ]
  },
  {
   "cell_type": "code",
   "execution_count": 83,
   "metadata": {
    "scrolled": true
   },
   "outputs": [
    {
     "data": {
      "text/plain": [
       "count    21597.000000\n",
       "mean      2080.321850\n",
       "std        918.106125\n",
       "min        370.000000\n",
       "25%       1430.000000\n",
       "50%       1910.000000\n",
       "75%       2550.000000\n",
       "max      13540.000000\n",
       "Name: sqft_living, dtype: float64"
      ]
     },
     "execution_count": 83,
     "metadata": {},
     "output_type": "execute_result"
    }
   ],
   "source": [
    "#check out just teh square foot living column\n",
    "df.sqft_living.describe()"
   ]
  },
  {
   "cell_type": "code",
   "execution_count": 84,
   "metadata": {},
   "outputs": [
    {
     "data": {
      "text/plain": [
       "<matplotlib.collections.PathCollection at 0x1a167106d8>"
      ]
     },
     "execution_count": 84,
     "metadata": {},
     "output_type": "execute_result"
    },
    {
     "data": {
      "image/png": "[encoded data removed]",
      "text/plain": [
       "<Figure size 432x288 with 1 Axes>"
      ]
     },
     "metadata": {
      "needs_background": "light"
     },
     "output_type": "display_data"
    }
   ],
   "source": [
    "#set some variables for our first plot\n",
    "X = df.sqft_living\n",
    "y = df.price\n",
    "\n",
    "plt.scatter(X, y)"
   ]
  },
  {
   "cell_type": "code",
   "execution_count": 85,
   "metadata": {},
   "outputs": [],
   "source": [
    "#go for a more advanced attempt at least squares regression\n",
    "slope, intercept, rvalue, pvalue, stderr = linregress(X,y)\n",
    "\n",
    "first_model_y = slope*X + intercept"
   ]
  },
  {
   "cell_type": "code",
   "execution_count": 86,
   "metadata": {},
   "outputs": [
    {
     "data": {
      "text/plain": [
       "LinregressResult(slope=280.8630143588746, intercept=-43988.892194227315, rvalue=0.7019173021377599, pvalue=0.0, stderr=1.9394099144299841)"
      ]
     },
     "execution_count": 86,
     "metadata": {},
     "output_type": "execute_result"
    }
   ],
   "source": [
    "#check out our regression variables\n",
    "linregress(X,y)"
   ]
  },
  {
   "cell_type": "code",
   "execution_count": 87,
   "metadata": {},
   "outputs": [
    {
     "data": {
      "text/plain": [
       "count    2.159700e+04\n",
       "mean     5.402966e+05\n",
       "std      2.578621e+05\n",
       "min      5.993042e+04\n",
       "25%      3.576452e+05\n",
       "50%      4.924595e+05\n",
       "75%      6.722118e+05\n",
       "max      3.758896e+06\n",
       "Name: sqft_living, dtype: float64"
      ]
     },
     "execution_count": 87,
     "metadata": {},
     "output_type": "execute_result"
    }
   ],
   "source": [
    "#look at our models outputs\n",
    "first_model_y.describe()"
   ]
  },
  {
   "cell_type": "code",
   "execution_count": 88,
   "metadata": {},
   "outputs": [
    {
     "data": {
      "text/html": [
       "<div>\n",
       "<style scoped>\n",
       "    .dataframe tbody tr th:only-of-type {\n",
       "        vertical-align: middle;\n",
       "    }\n",
       "\n",
       "    .dataframe tbody tr th {\n",
       "        vertical-align: top;\n",
       "    }\n",
       "\n",
       "    .dataframe thead th {\n",
       "        text-align: right;\n",
       "    }\n",
       "</style>\n",
       "<table border=\"1\" class=\"dataframe\">\n",
       "  <thead>\n",
       "    <tr style=\"text-align: right;\">\n",
       "      <th></th>\n",
       "      <th>id</th>\n",
       "      <th>date</th>\n",
       "      <th>price</th>\n",
       "      <th>bedrooms</th>\n",
       "      <th>bathrooms</th>\n",
       "      <th>sqft_living</th>\n",
       "      <th>sqft_lot</th>\n",
       "      <th>floors</th>\n",
       "      <th>waterfront</th>\n",
       "      <th>view</th>\n",
       "      <th>...</th>\n",
       "      <th>grade</th>\n",
       "      <th>sqft_above</th>\n",
       "      <th>sqft_basement</th>\n",
       "      <th>yr_built</th>\n",
       "      <th>yr_renovated</th>\n",
       "      <th>zipcode</th>\n",
       "      <th>lat</th>\n",
       "      <th>long</th>\n",
       "      <th>sqft_living15</th>\n",
       "      <th>sqft_lot15</th>\n",
       "    </tr>\n",
       "  </thead>\n",
       "  <tbody>\n",
       "    <tr>\n",
       "      <th>5</th>\n",
       "      <td>7237550310</td>\n",
       "      <td>5/12/2014</td>\n",
       "      <td>1230000.0</td>\n",
       "      <td>4</td>\n",
       "      <td>4.50</td>\n",
       "      <td>5420</td>\n",
       "      <td>101930</td>\n",
       "      <td>1.0</td>\n",
       "      <td>0.0</td>\n",
       "      <td>0.0</td>\n",
       "      <td>...</td>\n",
       "      <td>11</td>\n",
       "      <td>3890</td>\n",
       "      <td>1530.0</td>\n",
       "      <td>2001</td>\n",
       "      <td>0.0</td>\n",
       "      <td>98053</td>\n",
       "      <td>47.6561</td>\n",
       "      <td>-122.005</td>\n",
       "      <td>4760</td>\n",
       "      <td>101930</td>\n",
       "    </tr>\n",
       "    <tr>\n",
       "      <th>21</th>\n",
       "      <td>2524049179</td>\n",
       "      <td>8/26/2014</td>\n",
       "      <td>2000000.0</td>\n",
       "      <td>3</td>\n",
       "      <td>2.75</td>\n",
       "      <td>3050</td>\n",
       "      <td>44867</td>\n",
       "      <td>1.0</td>\n",
       "      <td>0.0</td>\n",
       "      <td>4.0</td>\n",
       "      <td>...</td>\n",
       "      <td>9</td>\n",
       "      <td>2330</td>\n",
       "      <td>720.0</td>\n",
       "      <td>1968</td>\n",
       "      <td>0.0</td>\n",
       "      <td>98040</td>\n",
       "      <td>47.5316</td>\n",
       "      <td>-122.233</td>\n",
       "      <td>4110</td>\n",
       "      <td>20336</td>\n",
       "    </tr>\n",
       "    <tr>\n",
       "      <th>26</th>\n",
       "      <td>1794500383</td>\n",
       "      <td>6/26/2014</td>\n",
       "      <td>937000.0</td>\n",
       "      <td>3</td>\n",
       "      <td>1.75</td>\n",
       "      <td>2450</td>\n",
       "      <td>2691</td>\n",
       "      <td>2.0</td>\n",
       "      <td>0.0</td>\n",
       "      <td>0.0</td>\n",
       "      <td>...</td>\n",
       "      <td>8</td>\n",
       "      <td>1750</td>\n",
       "      <td>700.0</td>\n",
       "      <td>1915</td>\n",
       "      <td>NaN</td>\n",
       "      <td>98119</td>\n",
       "      <td>47.6386</td>\n",
       "      <td>-122.360</td>\n",
       "      <td>1760</td>\n",
       "      <td>3573</td>\n",
       "    </tr>\n",
       "    <tr>\n",
       "      <th>29</th>\n",
       "      <td>1873100390</td>\n",
       "      <td>3/2/2015</td>\n",
       "      <td>719000.0</td>\n",
       "      <td>4</td>\n",
       "      <td>2.50</td>\n",
       "      <td>2570</td>\n",
       "      <td>7173</td>\n",
       "      <td>2.0</td>\n",
       "      <td>0.0</td>\n",
       "      <td>0.0</td>\n",
       "      <td>...</td>\n",
       "      <td>8</td>\n",
       "      <td>2570</td>\n",
       "      <td>0.0</td>\n",
       "      <td>2005</td>\n",
       "      <td>0.0</td>\n",
       "      <td>98052</td>\n",
       "      <td>47.7073</td>\n",
       "      <td>-122.110</td>\n",
       "      <td>2630</td>\n",
       "      <td>6026</td>\n",
       "    </tr>\n",
       "    <tr>\n",
       "      <th>32</th>\n",
       "      <td>461000390</td>\n",
       "      <td>6/24/2014</td>\n",
       "      <td>687500.0</td>\n",
       "      <td>4</td>\n",
       "      <td>1.75</td>\n",
       "      <td>2330</td>\n",
       "      <td>5000</td>\n",
       "      <td>1.5</td>\n",
       "      <td>0.0</td>\n",
       "      <td>0.0</td>\n",
       "      <td>...</td>\n",
       "      <td>7</td>\n",
       "      <td>1510</td>\n",
       "      <td>820.0</td>\n",
       "      <td>1929</td>\n",
       "      <td>0.0</td>\n",
       "      <td>98117</td>\n",
       "      <td>47.6823</td>\n",
       "      <td>-122.368</td>\n",
       "      <td>1460</td>\n",
       "      <td>5000</td>\n",
       "    </tr>\n",
       "  </tbody>\n",
       "</table>\n",
       "<p>5 rows × 21 columns</p>\n",
       "</div>"
      ],
      "text/plain": [
       "            id       date      price  bedrooms  bathrooms  sqft_living  \\\n",
       "5   7237550310  5/12/2014  1230000.0         4       4.50         5420   \n",
       "21  2524049179  8/26/2014  2000000.0         3       2.75         3050   \n",
       "26  1794500383  6/26/2014   937000.0         3       1.75         2450   \n",
       "29  1873100390   3/2/2015   719000.0         4       2.50         2570   \n",
       "32   461000390  6/24/2014   687500.0         4       1.75         2330   \n",
       "\n",
       "    sqft_lot  floors  waterfront  view     ...      grade  sqft_above  \\\n",
       "5     101930     1.0         0.0   0.0     ...         11        3890   \n",
       "21     44867     1.0         0.0   4.0     ...          9        2330   \n",
       "26      2691     2.0         0.0   0.0     ...          8        1750   \n",
       "29      7173     2.0         0.0   0.0     ...          8        2570   \n",
       "32      5000     1.5         0.0   0.0     ...          7        1510   \n",
       "\n",
       "    sqft_basement yr_built  yr_renovated  zipcode      lat     long  \\\n",
       "5          1530.0     2001           0.0    98053  47.6561 -122.005   \n",
       "21          720.0     1968           0.0    98040  47.5316 -122.233   \n",
       "26          700.0     1915           NaN    98119  47.6386 -122.360   \n",
       "29            0.0     2005           0.0    98052  47.7073 -122.110   \n",
       "32          820.0     1929           0.0    98117  47.6823 -122.368   \n",
       "\n",
       "    sqft_living15  sqft_lot15  \n",
       "5            4760      101930  \n",
       "21           4110       20336  \n",
       "26           1760        3573  \n",
       "29           2630        6026  \n",
       "32           1460        5000  \n",
       "\n",
       "[5 rows x 21 columns]"
      ]
     },
     "execution_count": 88,
     "metadata": {},
     "output_type": "execute_result"
    }
   ],
   "source": [
    "#find upper quartile\n",
    "df[df.price > 6.722118e+05].head()"
   ]
  },
  {
   "cell_type": "code",
   "execution_count": 89,
   "metadata": {},
   "outputs": [
    {
     "data": {
      "text/html": [
       "<div>\n",
       "<style scoped>\n",
       "    .dataframe tbody tr th:only-of-type {\n",
       "        vertical-align: middle;\n",
       "    }\n",
       "\n",
       "    .dataframe tbody tr th {\n",
       "        vertical-align: top;\n",
       "    }\n",
       "\n",
       "    .dataframe thead th {\n",
       "        text-align: right;\n",
       "    }\n",
       "</style>\n",
       "<table border=\"1\" class=\"dataframe\">\n",
       "  <thead>\n",
       "    <tr style=\"text-align: right;\">\n",
       "      <th></th>\n",
       "      <th>id</th>\n",
       "      <th>date</th>\n",
       "      <th>price</th>\n",
       "      <th>bedrooms</th>\n",
       "      <th>bathrooms</th>\n",
       "      <th>sqft_living</th>\n",
       "      <th>sqft_lot</th>\n",
       "      <th>floors</th>\n",
       "      <th>waterfront</th>\n",
       "      <th>view</th>\n",
       "      <th>...</th>\n",
       "      <th>grade</th>\n",
       "      <th>sqft_above</th>\n",
       "      <th>sqft_basement</th>\n",
       "      <th>yr_built</th>\n",
       "      <th>yr_renovated</th>\n",
       "      <th>zipcode</th>\n",
       "      <th>lat</th>\n",
       "      <th>long</th>\n",
       "      <th>sqft_living15</th>\n",
       "      <th>sqft_lot15</th>\n",
       "    </tr>\n",
       "  </thead>\n",
       "  <tbody>\n",
       "    <tr>\n",
       "      <th>0</th>\n",
       "      <td>7129300520</td>\n",
       "      <td>10/13/2014</td>\n",
       "      <td>221900.0</td>\n",
       "      <td>3</td>\n",
       "      <td>1.00</td>\n",
       "      <td>1180</td>\n",
       "      <td>5650</td>\n",
       "      <td>1.0</td>\n",
       "      <td>NaN</td>\n",
       "      <td>0.0</td>\n",
       "      <td>...</td>\n",
       "      <td>7</td>\n",
       "      <td>1180</td>\n",
       "      <td>0.0</td>\n",
       "      <td>1955</td>\n",
       "      <td>0.0</td>\n",
       "      <td>98178</td>\n",
       "      <td>47.5112</td>\n",
       "      <td>-122.257</td>\n",
       "      <td>1340</td>\n",
       "      <td>5650</td>\n",
       "    </tr>\n",
       "    <tr>\n",
       "      <th>2</th>\n",
       "      <td>5631500400</td>\n",
       "      <td>2/25/2015</td>\n",
       "      <td>180000.0</td>\n",
       "      <td>2</td>\n",
       "      <td>1.00</td>\n",
       "      <td>770</td>\n",
       "      <td>10000</td>\n",
       "      <td>1.0</td>\n",
       "      <td>0.0</td>\n",
       "      <td>0.0</td>\n",
       "      <td>...</td>\n",
       "      <td>6</td>\n",
       "      <td>770</td>\n",
       "      <td>0.0</td>\n",
       "      <td>1933</td>\n",
       "      <td>NaN</td>\n",
       "      <td>98028</td>\n",
       "      <td>47.7379</td>\n",
       "      <td>-122.233</td>\n",
       "      <td>2720</td>\n",
       "      <td>8062</td>\n",
       "    </tr>\n",
       "    <tr>\n",
       "      <th>6</th>\n",
       "      <td>1321400060</td>\n",
       "      <td>6/27/2014</td>\n",
       "      <td>257500.0</td>\n",
       "      <td>3</td>\n",
       "      <td>2.25</td>\n",
       "      <td>1715</td>\n",
       "      <td>6819</td>\n",
       "      <td>2.0</td>\n",
       "      <td>0.0</td>\n",
       "      <td>0.0</td>\n",
       "      <td>...</td>\n",
       "      <td>7</td>\n",
       "      <td>1715</td>\n",
       "      <td>?</td>\n",
       "      <td>1995</td>\n",
       "      <td>0.0</td>\n",
       "      <td>98003</td>\n",
       "      <td>47.3097</td>\n",
       "      <td>-122.327</td>\n",
       "      <td>2238</td>\n",
       "      <td>6819</td>\n",
       "    </tr>\n",
       "    <tr>\n",
       "      <th>7</th>\n",
       "      <td>2008000270</td>\n",
       "      <td>1/15/2015</td>\n",
       "      <td>291850.0</td>\n",
       "      <td>3</td>\n",
       "      <td>1.50</td>\n",
       "      <td>1060</td>\n",
       "      <td>9711</td>\n",
       "      <td>1.0</td>\n",
       "      <td>0.0</td>\n",
       "      <td>NaN</td>\n",
       "      <td>...</td>\n",
       "      <td>7</td>\n",
       "      <td>1060</td>\n",
       "      <td>0.0</td>\n",
       "      <td>1963</td>\n",
       "      <td>0.0</td>\n",
       "      <td>98198</td>\n",
       "      <td>47.4095</td>\n",
       "      <td>-122.315</td>\n",
       "      <td>1650</td>\n",
       "      <td>9711</td>\n",
       "    </tr>\n",
       "    <tr>\n",
       "      <th>8</th>\n",
       "      <td>2414600126</td>\n",
       "      <td>4/15/2015</td>\n",
       "      <td>229500.0</td>\n",
       "      <td>3</td>\n",
       "      <td>1.00</td>\n",
       "      <td>1780</td>\n",
       "      <td>7470</td>\n",
       "      <td>1.0</td>\n",
       "      <td>0.0</td>\n",
       "      <td>0.0</td>\n",
       "      <td>...</td>\n",
       "      <td>7</td>\n",
       "      <td>1050</td>\n",
       "      <td>730.0</td>\n",
       "      <td>1960</td>\n",
       "      <td>0.0</td>\n",
       "      <td>98146</td>\n",
       "      <td>47.5123</td>\n",
       "      <td>-122.337</td>\n",
       "      <td>1780</td>\n",
       "      <td>8113</td>\n",
       "    </tr>\n",
       "  </tbody>\n",
       "</table>\n",
       "<p>5 rows × 21 columns</p>\n",
       "</div>"
      ],
      "text/plain": [
       "           id        date     price  bedrooms  bathrooms  sqft_living  \\\n",
       "0  7129300520  10/13/2014  221900.0         3       1.00         1180   \n",
       "2  5631500400   2/25/2015  180000.0         2       1.00          770   \n",
       "6  1321400060   6/27/2014  257500.0         3       2.25         1715   \n",
       "7  2008000270   1/15/2015  291850.0         3       1.50         1060   \n",
       "8  2414600126   4/15/2015  229500.0         3       1.00         1780   \n",
       "\n",
       "   sqft_lot  floors  waterfront  view     ...      grade  sqft_above  \\\n",
       "0      5650     1.0         NaN   0.0     ...          7        1180   \n",
       "2     10000     1.0         0.0   0.0     ...          6         770   \n",
       "6      6819     2.0         0.0   0.0     ...          7        1715   \n",
       "7      9711     1.0         0.0   NaN     ...          7        1060   \n",
       "8      7470     1.0         0.0   0.0     ...          7        1050   \n",
       "\n",
       "   sqft_basement yr_built  yr_renovated  zipcode      lat     long  \\\n",
       "0            0.0     1955           0.0    98178  47.5112 -122.257   \n",
       "2            0.0     1933           NaN    98028  47.7379 -122.233   \n",
       "6              ?     1995           0.0    98003  47.3097 -122.327   \n",
       "7            0.0     1963           0.0    98198  47.4095 -122.315   \n",
       "8          730.0     1960           0.0    98146  47.5123 -122.337   \n",
       "\n",
       "   sqft_living15  sqft_lot15  \n",
       "0           1340        5650  \n",
       "2           2720        8062  \n",
       "6           2238        6819  \n",
       "7           1650        9711  \n",
       "8           1780        8113  \n",
       "\n",
       "[5 rows x 21 columns]"
      ]
     },
     "execution_count": 89,
     "metadata": {},
     "output_type": "execute_result"
    }
   ],
   "source": [
    "#find the lower quartile\n",
    "df[df.price < 3.576452e+05].head()"
   ]
  },
  {
   "cell_type": "code",
   "execution_count": 90,
   "metadata": {},
   "outputs": [
    {
     "data": {
      "text/plain": [
       "8085      9640\n",
       "9245      9890\n",
       "3910     10040\n",
       "7245     12050\n",
       "12764    13540\n",
       "Name: sqft_living, dtype: int64"
      ]
     },
     "execution_count": 90,
     "metadata": {},
     "output_type": "execute_result"
    }
   ],
   "source": [
    "#look at the low end of square foot\n",
    "df.sqft_living.sort_values().tail()"
   ]
  },
  {
   "cell_type": "code",
   "execution_count": 91,
   "metadata": {},
   "outputs": [],
   "source": [
    "#drop our first outlier\n",
    "df = df.drop(index=12764)"
   ]
  },
  {
   "cell_type": "code",
   "execution_count": 92,
   "metadata": {},
   "outputs": [
    {
     "data": {
      "text/html": [
       "<div>\n",
       "<style scoped>\n",
       "    .dataframe tbody tr th:only-of-type {\n",
       "        vertical-align: middle;\n",
       "    }\n",
       "\n",
       "    .dataframe tbody tr th {\n",
       "        vertical-align: top;\n",
       "    }\n",
       "\n",
       "    .dataframe thead th {\n",
       "        text-align: right;\n",
       "    }\n",
       "</style>\n",
       "<table border=\"1\" class=\"dataframe\">\n",
       "  <thead>\n",
       "    <tr style=\"text-align: right;\">\n",
       "      <th></th>\n",
       "      <th>id</th>\n",
       "      <th>date</th>\n",
       "      <th>price</th>\n",
       "      <th>bedrooms</th>\n",
       "      <th>bathrooms</th>\n",
       "      <th>sqft_living</th>\n",
       "      <th>sqft_lot</th>\n",
       "      <th>floors</th>\n",
       "      <th>waterfront</th>\n",
       "      <th>view</th>\n",
       "      <th>...</th>\n",
       "      <th>grade</th>\n",
       "      <th>sqft_above</th>\n",
       "      <th>sqft_basement</th>\n",
       "      <th>yr_built</th>\n",
       "      <th>yr_renovated</th>\n",
       "      <th>zipcode</th>\n",
       "      <th>lat</th>\n",
       "      <th>long</th>\n",
       "      <th>sqft_living15</th>\n",
       "      <th>sqft_lot15</th>\n",
       "    </tr>\n",
       "  </thead>\n",
       "  <tbody>\n",
       "  </tbody>\n",
       "</table>\n",
       "<p>0 rows × 21 columns</p>\n",
       "</div>"
      ],
      "text/plain": [
       "Empty DataFrame\n",
       "Columns: [id, date, price, bedrooms, bathrooms, sqft_living, sqft_lot, floors, waterfront, view, condition, grade, sqft_above, sqft_basement, yr_built, yr_renovated, zipcode, lat, long, sqft_living15, sqft_lot15]\n",
       "Index: []\n",
       "\n",
       "[0 rows x 21 columns]"
      ]
     },
     "execution_count": 92,
     "metadata": {},
     "output_type": "execute_result"
    }
   ],
   "source": [
    "#check to make sure it's gone\n",
    "df.loc[df.index == 12764]"
   ]
  },
  {
   "cell_type": "code",
   "execution_count": 93,
   "metadata": {},
   "outputs": [],
   "source": [
    "#finding many outliers\n",
    "remove_outliers = df.loc[(df.price >= 4500000) & (df.sqft_living >= 8000)].index"
   ]
  },
  {
   "cell_type": "code",
   "execution_count": 94,
   "metadata": {},
   "outputs": [],
   "source": [
    "#remove those many outliers\n",
    "df = df.drop(index=remove_outliers)"
   ]
  },
  {
   "cell_type": "code",
   "execution_count": 95,
   "metadata": {},
   "outputs": [
    {
     "name": "stdout",
     "output_type": "stream",
     "text": [
      "LinregressResult(slope=271.48382562201607, intercept=-25542.826878536027, rvalue=0.6956774973134765, pvalue=0.0, stderr=1.9080006609072122)\n"
     ]
    },
    {
     "data": {
      "image/png": "[encoded data removed]",
      "text/plain": [
       "<Figure size 864x576 with 1 Axes>"
      ]
     },
     "metadata": {
      "needs_background": "light"
     },
     "output_type": "display_data"
    }
   ],
   "source": [
    "#see our new regression now that many extravaganatly\n",
    "#large and expensive houses have been removed\n",
    "X = df.sqft_living\n",
    "y = df.price\n",
    "\n",
    "slope, intercept, rvalue, pvalue, stderr = linregress(X,y)\n",
    "\n",
    "first_model_y = slope*X + intercept\n",
    "\n",
    "print(linregress(X,y))\n",
    "\n",
    "fig = plt.figure(figsize=(12,8))\n",
    "plt.scatter(X,y, alpha=0.05)\n",
    "plt.plot(X, first_model_y, color='red')\n",
    "plt.xlabel('living space square footage',fontsize=25)\n",
    "plt.ylabel('Price as an output of living space',fontsize=25)\n",
    "plt.show()"
   ]
  },
  {
   "cell_type": "code",
   "execution_count": 96,
   "metadata": {},
   "outputs": [],
   "source": [
    "#write a function to return a prediction based on square footage\n",
    "def return_predicted_value(x, slope, intercept):\n",
    "    return slope*x + intercept"
   ]
  },
  {
   "cell_type": "code",
   "execution_count": 97,
   "metadata": {},
   "outputs": [
    {
     "data": {
      "text/plain": [
       "2146327.7780975928"
      ]
     },
     "execution_count": 97,
     "metadata": {},
     "output_type": "execute_result"
    }
   ],
   "source": [
    "#see our results\n",
    "return_predicted_value(8000, slope, intercept)"
   ]
  },
  {
   "cell_type": "code",
   "execution_count": 98,
   "metadata": {},
   "outputs": [
    {
     "data": {
      "text/plain": [
       "47.5322    17\n",
       "47.6846    17\n",
       "47.6624    17\n",
       "47.5491    17\n",
       "47.6886    16\n",
       "Name: lat, dtype: int64"
      ]
     },
     "execution_count": 98,
     "metadata": {},
     "output_type": "execute_result"
    }
   ],
   "source": [
    "df.lat.value_counts().head()"
   ]
  },
  {
   "cell_type": "code",
   "execution_count": 99,
   "metadata": {
    "scrolled": true
   },
   "outputs": [
    {
     "data": {
      "text/plain": [
       "-122.290    115\n",
       "-122.300    111\n",
       "-122.362    104\n",
       "-122.291    100\n",
       "-122.372     99\n",
       "Name: long, dtype: int64"
      ]
     },
     "execution_count": 99,
     "metadata": {},
     "output_type": "execute_result"
    }
   ],
   "source": [
    "df.long.value_counts().head()"
   ]
  },
  {
   "cell_type": "markdown",
   "metadata": {},
   "source": [
    "# save this for tomorrow"
   ]
  },
  {
   "cell_type": "code",
   "execution_count": 100,
   "metadata": {
    "scrolled": false
   },
   "outputs": [],
   "source": [
    "#plot = df.plot(kind='scatter', x='long', y='lat', alpha=0.15, figsize=(10,10))\n",
    "#points = list(zip(df.lat,df.long))\n",
    "#m = folium.Map([47.53, -122.3], zoom_start=10)\n",
    "#for point in points:\n",
    "#    folium.CircleMarker(point[:500],\n",
    "#                        radius=1,\n",
    "#                        popup= 'point',\n",
    "#                        fill_color=\"#3db7e4\").add_to(m)\n",
    "#m"
   ]
  },
  {
   "cell_type": "code",
   "execution_count": 101,
   "metadata": {},
   "outputs": [
    {
     "data": {
      "text/html": [
       "<div>\n",
       "<style scoped>\n",
       "    .dataframe tbody tr th:only-of-type {\n",
       "        vertical-align: middle;\n",
       "    }\n",
       "\n",
       "    .dataframe tbody tr th {\n",
       "        vertical-align: top;\n",
       "    }\n",
       "\n",
       "    .dataframe thead th {\n",
       "        text-align: right;\n",
       "    }\n",
       "</style>\n",
       "<table border=\"1\" class=\"dataframe\">\n",
       "  <thead>\n",
       "    <tr style=\"text-align: right;\">\n",
       "      <th></th>\n",
       "      <th>0</th>\n",
       "      <th>1</th>\n",
       "      <th>2</th>\n",
       "      <th>3</th>\n",
       "      <th>4</th>\n",
       "    </tr>\n",
       "  </thead>\n",
       "  <tbody>\n",
       "    <tr>\n",
       "      <th>id</th>\n",
       "      <td>7129300520</td>\n",
       "      <td>6414100192</td>\n",
       "      <td>5631500400</td>\n",
       "      <td>2487200875</td>\n",
       "      <td>1954400510</td>\n",
       "    </tr>\n",
       "    <tr>\n",
       "      <th>date</th>\n",
       "      <td>10/13/2014</td>\n",
       "      <td>12/9/2014</td>\n",
       "      <td>2/25/2015</td>\n",
       "      <td>12/9/2014</td>\n",
       "      <td>2/18/2015</td>\n",
       "    </tr>\n",
       "    <tr>\n",
       "      <th>price</th>\n",
       "      <td>221900</td>\n",
       "      <td>538000</td>\n",
       "      <td>180000</td>\n",
       "      <td>604000</td>\n",
       "      <td>510000</td>\n",
       "    </tr>\n",
       "    <tr>\n",
       "      <th>bedrooms</th>\n",
       "      <td>3</td>\n",
       "      <td>3</td>\n",
       "      <td>2</td>\n",
       "      <td>4</td>\n",
       "      <td>3</td>\n",
       "    </tr>\n",
       "    <tr>\n",
       "      <th>bathrooms</th>\n",
       "      <td>1</td>\n",
       "      <td>2.25</td>\n",
       "      <td>1</td>\n",
       "      <td>3</td>\n",
       "      <td>2</td>\n",
       "    </tr>\n",
       "    <tr>\n",
       "      <th>sqft_living</th>\n",
       "      <td>1180</td>\n",
       "      <td>2570</td>\n",
       "      <td>770</td>\n",
       "      <td>1960</td>\n",
       "      <td>1680</td>\n",
       "    </tr>\n",
       "    <tr>\n",
       "      <th>sqft_lot</th>\n",
       "      <td>5650</td>\n",
       "      <td>7242</td>\n",
       "      <td>10000</td>\n",
       "      <td>5000</td>\n",
       "      <td>8080</td>\n",
       "    </tr>\n",
       "    <tr>\n",
       "      <th>floors</th>\n",
       "      <td>1</td>\n",
       "      <td>2</td>\n",
       "      <td>1</td>\n",
       "      <td>1</td>\n",
       "      <td>1</td>\n",
       "    </tr>\n",
       "    <tr>\n",
       "      <th>waterfront</th>\n",
       "      <td>NaN</td>\n",
       "      <td>0</td>\n",
       "      <td>0</td>\n",
       "      <td>0</td>\n",
       "      <td>0</td>\n",
       "    </tr>\n",
       "    <tr>\n",
       "      <th>view</th>\n",
       "      <td>0</td>\n",
       "      <td>0</td>\n",
       "      <td>0</td>\n",
       "      <td>0</td>\n",
       "      <td>0</td>\n",
       "    </tr>\n",
       "    <tr>\n",
       "      <th>condition</th>\n",
       "      <td>3</td>\n",
       "      <td>3</td>\n",
       "      <td>3</td>\n",
       "      <td>5</td>\n",
       "      <td>3</td>\n",
       "    </tr>\n",
       "    <tr>\n",
       "      <th>grade</th>\n",
       "      <td>7</td>\n",
       "      <td>7</td>\n",
       "      <td>6</td>\n",
       "      <td>7</td>\n",
       "      <td>8</td>\n",
       "    </tr>\n",
       "    <tr>\n",
       "      <th>sqft_above</th>\n",
       "      <td>1180</td>\n",
       "      <td>2170</td>\n",
       "      <td>770</td>\n",
       "      <td>1050</td>\n",
       "      <td>1680</td>\n",
       "    </tr>\n",
       "    <tr>\n",
       "      <th>sqft_basement</th>\n",
       "      <td>0.0</td>\n",
       "      <td>400.0</td>\n",
       "      <td>0.0</td>\n",
       "      <td>910.0</td>\n",
       "      <td>0.0</td>\n",
       "    </tr>\n",
       "    <tr>\n",
       "      <th>yr_built</th>\n",
       "      <td>1955</td>\n",
       "      <td>1951</td>\n",
       "      <td>1933</td>\n",
       "      <td>1965</td>\n",
       "      <td>1987</td>\n",
       "    </tr>\n",
       "    <tr>\n",
       "      <th>yr_renovated</th>\n",
       "      <td>0</td>\n",
       "      <td>1991</td>\n",
       "      <td>NaN</td>\n",
       "      <td>0</td>\n",
       "      <td>0</td>\n",
       "    </tr>\n",
       "    <tr>\n",
       "      <th>zipcode</th>\n",
       "      <td>98178</td>\n",
       "      <td>98125</td>\n",
       "      <td>98028</td>\n",
       "      <td>98136</td>\n",
       "      <td>98074</td>\n",
       "    </tr>\n",
       "    <tr>\n",
       "      <th>lat</th>\n",
       "      <td>47.5112</td>\n",
       "      <td>47.721</td>\n",
       "      <td>47.7379</td>\n",
       "      <td>47.5208</td>\n",
       "      <td>47.6168</td>\n",
       "    </tr>\n",
       "    <tr>\n",
       "      <th>long</th>\n",
       "      <td>-122.257</td>\n",
       "      <td>-122.319</td>\n",
       "      <td>-122.233</td>\n",
       "      <td>-122.393</td>\n",
       "      <td>-122.045</td>\n",
       "    </tr>\n",
       "    <tr>\n",
       "      <th>sqft_living15</th>\n",
       "      <td>1340</td>\n",
       "      <td>1690</td>\n",
       "      <td>2720</td>\n",
       "      <td>1360</td>\n",
       "      <td>1800</td>\n",
       "    </tr>\n",
       "    <tr>\n",
       "      <th>sqft_lot15</th>\n",
       "      <td>5650</td>\n",
       "      <td>7639</td>\n",
       "      <td>8062</td>\n",
       "      <td>5000</td>\n",
       "      <td>7503</td>\n",
       "    </tr>\n",
       "  </tbody>\n",
       "</table>\n",
       "</div>"
      ],
      "text/plain": [
       "                        0           1           2           3           4\n",
       "id             7129300520  6414100192  5631500400  2487200875  1954400510\n",
       "date           10/13/2014   12/9/2014   2/25/2015   12/9/2014   2/18/2015\n",
       "price              221900      538000      180000      604000      510000\n",
       "bedrooms                3           3           2           4           3\n",
       "bathrooms               1        2.25           1           3           2\n",
       "sqft_living          1180        2570         770        1960        1680\n",
       "sqft_lot             5650        7242       10000        5000        8080\n",
       "floors                  1           2           1           1           1\n",
       "waterfront            NaN           0           0           0           0\n",
       "view                    0           0           0           0           0\n",
       "condition               3           3           3           5           3\n",
       "grade                   7           7           6           7           8\n",
       "sqft_above           1180        2170         770        1050        1680\n",
       "sqft_basement         0.0       400.0         0.0       910.0         0.0\n",
       "yr_built             1955        1951        1933        1965        1987\n",
       "yr_renovated            0        1991         NaN           0           0\n",
       "zipcode             98178       98125       98028       98136       98074\n",
       "lat               47.5112      47.721     47.7379     47.5208     47.6168\n",
       "long             -122.257    -122.319    -122.233    -122.393    -122.045\n",
       "sqft_living15        1340        1690        2720        1360        1800\n",
       "sqft_lot15           5650        7639        8062        5000        7503"
      ]
     },
     "execution_count": 101,
     "metadata": {},
     "output_type": "execute_result"
    }
   ],
   "source": [
    "df.head().T"
   ]
  },
  {
   "cell_type": "code",
   "execution_count": 102,
   "metadata": {},
   "outputs": [],
   "source": [
    "df.yr_built = 2019 - df.yr_built"
   ]
  },
  {
   "cell_type": "code",
   "execution_count": 103,
   "metadata": {},
   "outputs": [],
   "source": [
    "df = df.rename(columns={'yr_built': 'years_old'})"
   ]
  },
  {
   "cell_type": "code",
   "execution_count": 104,
   "metadata": {},
   "outputs": [
    {
     "data": {
      "text/plain": [
       "Index(['id', 'date', 'price', 'bedrooms', 'bathrooms', 'sqft_living',\n",
       "       'sqft_lot', 'floors', 'waterfront', 'view', 'condition', 'grade',\n",
       "       'sqft_above', 'sqft_basement', 'years_old', 'yr_renovated', 'zipcode',\n",
       "       'lat', 'long', 'sqft_living15', 'sqft_lot15'],\n",
       "      dtype='object')"
      ]
     },
     "execution_count": 104,
     "metadata": {},
     "output_type": "execute_result"
    }
   ],
   "source": [
    "df.columns"
   ]
  },
  {
   "cell_type": "code",
   "execution_count": 105,
   "metadata": {
    "scrolled": true
   },
   "outputs": [],
   "source": [
    "# _ = pd.plotting.scatter_matrix(df[['price', 'bedrooms', 'bathrooms', \n",
    "#                                   'sqft_living', 'floors', 'waterfront', \n",
    "#                                   'view', 'condition', 'years_old']], figsize=(12, 12))"
   ]
  },
  {
   "cell_type": "code",
   "execution_count": 106,
   "metadata": {},
   "outputs": [],
   "source": [
    "def do_predict(X, y):\n",
    "    \"\"\"Takes array like objects for X and y\"\"\"\n",
    "    \n",
    "    #run a train test split on our variables\n",
    "    X_train, X_test, y_train, y_test = train_test_split(X, y,\n",
    "                                                       test_size=0.2,\n",
    "                                                       random_state=27)\n",
    "    #perform our regression and fit\n",
    "    lr = LinearRegression()\n",
    "    lr.fit(X_train, y_train)\n",
    "    \n",
    "    #set a variable to our r squared for our test set\n",
    "    r2_score = lr.score(X_test, y_test)\n",
    "    \n",
    "    #set a variable to our test prediction\n",
    "    y_pred = lr.predict(X_test)\n",
    "    \n",
    "    #variable for mean squared error\n",
    "    mse = mean_squared_error(y_test, y_pred)\n",
    "    \n",
    "    #variable for our root mean squared error\n",
    "    rmse = np.sqrt(mse)\n",
    "    \n",
    "    #perform a cross validation with our data set\n",
    "    scores = cross_val_score(lr, X, y,\n",
    "                            scoring='neg_mean_squared_error', cv=10)\n",
    "    \n",
    "    #root mean squared error result of our cross validation\n",
    "    rmse_scores = np.sqrt(-scores)\n",
    "    \n",
    "    \n",
    "    #return a dictionary with our final values\n",
    "    return lr, {'R2':  r2_score,\n",
    "            'RMSE':  rmse,\n",
    "            'RMSE_SCORES':   rmse_scores,\n",
    "            'Mean':  rmse_scores.mean(),\n",
    "            'Std':  rmse_scores.std()\n",
    "            }"
   ]
  },
  {
   "cell_type": "code",
   "execution_count": null,
   "metadata": {},
   "outputs": [],
   "source": []
  },
  {
   "cell_type": "code",
   "execution_count": 107,
   "metadata": {},
   "outputs": [],
   "source": [
    "#set the view NaN's to 0 since it's by\n",
    "#far the most common value\n",
    "df.view.replace(to_replace=np.NaN, value=0, inplace=True)\n",
    "\n",
    "df.sqft_basement.replace(to_replace='?', value=0, inplace=True)\n",
    "df.sqft_basement = df.sqft_basement.astype('float64')\n",
    "df.waterfront.replace(to_replace=np.NaN, value=0, inplace=True)\n",
    "df.yr_renovated.replace(to_replace=np.NaN, value=0, inplace=True)"
   ]
  },
  {
   "cell_type": "code",
   "execution_count": 108,
   "metadata": {},
   "outputs": [],
   "source": [
    "X = df.drop(columns=['price','date','id','yr_renovated'], axis=1)\n",
    "\n",
    "y = df.price"
   ]
  },
  {
   "cell_type": "markdown",
   "metadata": {},
   "source": [
    "# Goals:\n",
    "day 2: try multivariable regression with variables that have low multicolinearity, try to build a function that finds how far away it is from here. do some more data exploration and cleaning. work zipcodes into dummy columns so we can see things like price by zipcode. treat building grade as catagorical if it's not already. for now we will base off of rmse"
   ]
  },
  {
   "cell_type": "code",
   "execution_count": 109,
   "metadata": {},
   "outputs": [
    {
     "data": {
      "text/plain": [
       "<matplotlib.axes._subplots.AxesSubplot at 0x1a16746a20>"
      ]
     },
     "execution_count": 109,
     "metadata": {},
     "output_type": "execute_result"
    },
    {
     "data": {
      "image/png": "[encoded data removed]",
      "text/plain": [
       "<Figure size 432x288 with 2 Axes>"
      ]
     },
     "metadata": {
      "needs_background": "light"
     },
     "output_type": "display_data"
    }
   ],
   "source": [
    "sns.heatmap(X.corr())"
   ]
  },
  {
   "cell_type": "markdown",
   "metadata": {},
   "source": [
    "things that we're not using: bathrooms, bedrooms, sqft_living_15"
   ]
  },
  {
   "cell_type": "markdown",
   "metadata": {},
   "source": [
    "things to include: sqft_living, condition,view,waterfront,"
   ]
  },
  {
   "cell_type": "code",
   "execution_count": 110,
   "metadata": {
    "scrolled": false
   },
   "outputs": [
    {
     "name": "stdout",
     "output_type": "stream",
     "text": [
      "(LinearRegression(copy_X=True, fit_intercept=True, n_jobs=None,\n",
      "         normalize=False), {'R2': 0.7039904343806925, 'RMSE': 188196.97684529508, 'RMSE_SCORES': array([193120.60459392, 201651.60523073, 175431.96990221, 200697.99867921,\n",
      "       164628.95314942, 190268.24030927, 186351.25707596, 196480.29238917,\n",
      "       202779.68488868, 214156.02580165]), 'Mean': 192556.66320202182, 'Std': 13611.432330162374})\n"
     ]
    }
   ],
   "source": [
    "print(do_predict(X,y))"
   ]
  },
  {
   "cell_type": "code",
   "execution_count": 111,
   "metadata": {},
   "outputs": [],
   "source": [
    "X = df.drop(columns=['price','date','id','yr_renovated','years_old', 'floors', 'sqft_above'], axis=1)\n",
    "\n",
    "y = df.price"
   ]
  },
  {
   "cell_type": "code",
   "execution_count": 112,
   "metadata": {},
   "outputs": [
    {
     "data": {
      "text/plain": [
       "(LinearRegression(copy_X=True, fit_intercept=True, n_jobs=None,\n",
       "          normalize=False),\n",
       " {'R2': 0.6811718197283265,\n",
       "  'RMSE': 195316.13430102245,\n",
       "  'RMSE_SCORES': array([201169.13767319, 210664.40045781, 185498.46886755, 208390.11448466,\n",
       "         173929.75492843, 197809.22124177, 195521.58372001, 203801.2872722 ,\n",
       "         210689.08421933, 209111.16347003]),\n",
       "  'Mean': 199658.42163349787,\n",
       "  'Std': 11449.24013486175})"
      ]
     },
     "execution_count": 112,
     "metadata": {},
     "output_type": "execute_result"
    }
   ],
   "source": [
    "do_predict(X,y)"
   ]
  },
  {
   "cell_type": "code",
   "execution_count": 113,
   "metadata": {},
   "outputs": [],
   "source": [
    "X = df.loc[:,['sqft_living']]\n",
    "y = df.price"
   ]
  },
  {
   "cell_type": "code",
   "execution_count": 114,
   "metadata": {},
   "outputs": [
    {
     "data": {
      "text/plain": [
       "(LinearRegression(copy_X=True, fit_intercept=True, n_jobs=None,\n",
       "          normalize=False),\n",
       " {'R2': 0.4907616031350701,\n",
       "  'RMSE': 246842.73007882628,\n",
       "  'RMSE_SCORES': array([257449.79572394, 265579.77714454, 238808.82691858, 263302.59132767,\n",
       "         227291.57558004, 246712.89805713, 247562.11331225, 259454.31635127,\n",
       "         262030.63588889, 266349.61207982]),\n",
       "  'Mean': 253454.2142384131,\n",
       "  'Std': 12308.392365238155})"
      ]
     },
     "execution_count": 114,
     "metadata": {},
     "output_type": "execute_result"
    }
   ],
   "source": [
    "do_predict(X,y)"
   ]
  },
  {
   "cell_type": "code",
   "execution_count": 115,
   "metadata": {},
   "outputs": [
    {
     "data": {
      "text/plain": [
       "70"
      ]
     },
     "execution_count": 115,
     "metadata": {},
     "output_type": "execute_result"
    }
   ],
   "source": [
    "df.zipcode.value_counts().size"
   ]
  },
  {
   "cell_type": "code",
   "execution_count": 117,
   "metadata": {},
   "outputs": [],
   "source": [
    "df['Seattle_zip'] = 0\n"
   ]
  },
  {
   "cell_type": "code",
   "execution_count": 118,
   "metadata": {},
   "outputs": [],
   "source": [
    "X = df.loc[:,['sqft_living','condition', 'view', 'waterfront']]\n",
    "y = df.price"
   ]
  },
  {
   "cell_type": "code",
   "execution_count": 119,
   "metadata": {},
   "outputs": [
    {
     "data": {
      "text/plain": [
       "(LinearRegression(copy_X=True, fit_intercept=True, n_jobs=None,\n",
       "          normalize=False),\n",
       " {'R2': 0.5530912321545016,\n",
       "  'RMSE': 231243.3261214612,\n",
       "  'RMSE_SCORES': array([234837.94652397, 249179.83681749, 222548.99984054, 245857.77152977,\n",
       "         214573.14555829, 233199.61641218, 233578.96292344, 243138.77516911,\n",
       "         246781.12685435, 253451.69245633]),\n",
       "  'Mean': 237714.78740854803,\n",
       "  'Std': 11697.557906935372})"
      ]
     },
     "execution_count": 119,
     "metadata": {},
     "output_type": "execute_result"
    }
   ],
   "source": [
    "do_predict(X,y)"
   ]
  },
  {
   "cell_type": "markdown",
   "metadata": {},
   "source": [
    "# numbers to beat\n",
    "{'R2': 0.7039904343806925, 'RMSE': 188196.97684529508, 'RMSE_SCORES': array([193120.60459392, 201651.60523073, 175431.96990221, 200697.99867921,\n",
    "       164628.95314942, 190268.24030927, 186351.25707596, 196480.29238917,\n",
    "       202779.68488868, 214156.02580165]), 'Mean': 192556.66320202182, 'Std': 13611.432330162374}"
   ]
  },
  {
   "cell_type": "code",
   "execution_count": 120,
   "metadata": {},
   "outputs": [],
   "source": [
    "X = df.drop(columns=['price','date','id'], axis=1)\n",
    "\n",
    "y = df.price"
   ]
  },
  {
   "cell_type": "code",
   "execution_count": 121,
   "metadata": {},
   "outputs": [],
   "source": [
    "lr, result = do_predict(X,y)"
   ]
  },
  {
   "cell_type": "code",
   "execution_count": 122,
   "metadata": {
    "scrolled": true
   },
   "outputs": [
    {
     "data": {
      "text/plain": [
       "array([-2.86831365e+04,  3.79444206e+04,  1.01921124e+02,  1.85538958e-01,\n",
       "        1.47307651e+04,  6.10593238e+05,  5.42252288e+04,  2.75075644e+04,\n",
       "        1.00720595e+05,  5.26541053e+01,  2.75163636e+01,  2.60767426e+03,\n",
       "        2.45866766e+01, -5.61070438e+02,  6.03248668e+05, -2.06776097e+05,\n",
       "        3.44776309e+01, -3.82456275e-01,  0.00000000e+00])"
      ]
     },
     "execution_count": 122,
     "metadata": {},
     "output_type": "execute_result"
    }
   ],
   "source": [
    "lr.coef_"
   ]
  },
  {
   "cell_type": "code",
   "execution_count": 125,
   "metadata": {},
   "outputs": [],
   "source": [
    "def is_it_in_seattle(x):\n",
    "    seattle_zip_codes = [98101, 98102, 98104, 98105, 98108, 98109, 98112 ,98113, 98114,\n",
    "                     98117, 98103, 98106, 98107, 98111, 98115, 98116, 98118, 98119,\n",
    "                     98121, 98125, 98126, 98132, 98133, 98138, 98139, 98141, 98122,\n",
    "                     98124, 98127, 98129, 98131, 98134, 98136, 98144, 98145, 98148,\n",
    "                     98155, 98160, 98161, 98164, 98165, 98168, 98170, 98146, 98154,\n",
    "                     98158, 98166, 98174, 98175, 98178, 98190, 98191, 98177, 98181,\n",
    "                     98185, 98188, 98189, 98194, 98195, 98199, 98198]\n",
    "    return x in seattle_zip_codes"
   ]
  },
  {
   "cell_type": "code",
   "execution_count": 126,
   "metadata": {},
   "outputs": [
    {
     "data": {
      "text/plain": [
       "True"
      ]
     },
     "execution_count": 126,
     "metadata": {},
     "output_type": "execute_result"
    }
   ],
   "source": [
    "is_it_in_seattle(98101)"
   ]
  },
  {
   "cell_type": "code",
   "execution_count": 131,
   "metadata": {},
   "outputs": [],
   "source": [
    "df.loc[df['zipcode'].apply(is_it_in_seattle) == True, 'Seattle_zip'] = 1"
   ]
  },
  {
   "cell_type": "code",
   "execution_count": 140,
   "metadata": {},
   "outputs": [
    {
     "data": {
      "text/plain": [
       "(LinearRegression(copy_X=True, fit_intercept=True, n_jobs=None,\n",
       "          normalize=False),\n",
       " {'R2': 0.5530912321545016,\n",
       "  'RMSE': 231243.3261214612,\n",
       "  'RMSE_SCORES': array([234837.94652397, 249179.83681749, 222548.99984054, 245857.77152977,\n",
       "         214573.14555829, 233199.61641218, 233578.96292344, 243138.77516911,\n",
       "         246781.12685435, 253451.69245633]),\n",
       "  'Mean': 237714.78740854803,\n",
       "  'Std': 11697.557906935372})"
      ]
     },
     "execution_count": 140,
     "metadata": {},
     "output_type": "execute_result"
    }
   ],
   "source": [
    "X = df.loc[:,['sqft_living','condition', 'view', 'waterfront']]\n",
    "y = df.price\n",
    "\n",
    "do_predict(X, y)"
   ]
  },
  {
   "cell_type": "code",
   "execution_count": 138,
   "metadata": {},
   "outputs": [
    {
     "data": {
      "text/plain": [
       "(LinearRegression(copy_X=True, fit_intercept=True, n_jobs=None,\n",
       "          normalize=False),\n",
       " {'R2': 0.5394131799873588,\n",
       "  'RMSE': 212221.02580439238,\n",
       "  'RMSE_SCORES': array([216117.64286664, 241451.30868234, 221212.97782964, 226328.56634387,\n",
       "         214816.67276689, 226922.56177503, 224195.21861831, 224251.1113331 ,\n",
       "         236310.52207928, 201140.78947549]),\n",
       "  'Mean': 223274.73717706045,\n",
       "  'Std': 10684.932728636739})"
      ]
     },
     "execution_count": 138,
     "metadata": {},
     "output_type": "execute_result"
    }
   ],
   "source": [
    "X = df.loc[df['Seattle_zip'] == 1,['sqft_living','condition', 'view', 'waterfront']]\n",
    "y = df.price[df['Seattle_zip'] == 1]\n",
    "\n",
    "do_predict(X, y)"
   ]
  },
  {
   "cell_type": "code",
   "execution_count": 141,
   "metadata": {},
   "outputs": [
    {
     "data": {
      "text/plain": [
       "(LinearRegression(copy_X=True, fit_intercept=True, n_jobs=None,\n",
       "          normalize=False),\n",
       " {'R2': 0.5789857080093423,\n",
       "  'RMSE': 234868.52650233018,\n",
       "  'RMSE_SCORES': array([232374.3201982 , 251086.22664367, 221403.22223006, 231585.23310143,\n",
       "         216842.04566723, 229628.47633311, 226998.41190233, 242242.02639968,\n",
       "         243562.23068913, 266486.22073857]),\n",
       "  'Mean': 236220.8413903404,\n",
       "  'Std': 14096.170277885016})"
      ]
     },
     "execution_count": 141,
     "metadata": {},
     "output_type": "execute_result"
    }
   ],
   "source": [
    "X = df.loc[df['Seattle_zip'] == 0,['sqft_living','condition', 'view', 'waterfront']]\n",
    "y = df.price[df['Seattle_zip'] == 0]\n",
    "\n",
    "do_predict(X, y)"
   ]
  },
  {
   "cell_type": "code",
   "execution_count": 185,
   "metadata": {},
   "outputs": [],
   "source": [
    "def get_dataframe_by_zip(x):\n",
    "    q = f\"SELECT * FROM df WHERE zipcode={x}\"\n",
    "    return pysqldf(q)\n",
    "    "
   ]
  },
  {
   "cell_type": "code",
   "execution_count": 189,
   "metadata": {},
   "outputs": [
    {
     "name": "stdout",
     "output_type": "stream",
     "text": [
      "98178\n",
      "(LinearRegression(copy_X=True, fit_intercept=True, n_jobs=None,\n",
      "         normalize=False), {'R2': 0.7690219952202392, 'RMSE': 52733.609439622785, 'RMSE_SCORES': array([140769.65258174,  69416.83826511,  52975.10194916,  52821.91048185,\n",
      "        48140.57263099,  66638.64512888,  44097.19100715,  79492.239635  ,\n",
      "        68953.2256488 ,  69186.28238266]), 'Mean': 69249.16597113227, 'Std': 26153.258824239783})\n",
      "98125\n",
      "(LinearRegression(copy_X=True, fit_intercept=True, n_jobs=None,\n",
      "         normalize=False), {'R2': 0.7010960673832557, 'RMSE': 82676.51147753256, 'RMSE_SCORES': array([106148.60319368,  72762.37960442, 117190.64072337,  65720.72958735,\n",
      "        92696.09103897,  74778.33384229,  62236.41600509, 198450.54727103,\n",
      "       133690.23201386,  63106.07551039]), 'Mean': 98678.00487904354, 'Std': 40665.8020269277})\n",
      "98028\n",
      "(LinearRegression(copy_X=True, fit_intercept=True, n_jobs=None,\n",
      "         normalize=False), {'R2': 0.6620961775250699, 'RMSE': 122929.68628337771, 'RMSE_SCORES': array([ 70224.01828061,  77875.08410546,  80398.76625787,  53652.53296744,\n",
      "        74074.34495674,  58590.72713955,  96259.29586614, 162916.51219886,\n",
      "        76883.4305252 ,  53696.80166728]), 'Mean': 80457.15139651476, 'Std': 30210.755606101473})\n",
      "98136\n",
      "(LinearRegression(copy_X=True, fit_intercept=True, n_jobs=None,\n",
      "         normalize=False), {'R2': 0.6889247971255434, 'RMSE': 135253.31351244304, 'RMSE_SCORES': array([ 95926.44926067, 103609.78047647, 163485.65335624, 107180.91732084,\n",
      "       100661.52811484,  89819.65934227, 161140.41753026, 173415.39602869,\n",
      "        91828.49219618,  80856.95557281]), 'Mean': 116792.5249199261, 'Std': 33101.36980457918})\n",
      "98074\n",
      "(LinearRegression(copy_X=True, fit_intercept=True, n_jobs=None,\n",
      "         normalize=False), {'R2': 0.7146451824872064, 'RMSE': 157403.78111959956, 'RMSE_SCORES': array([183102.71626945,  97075.01967268,  81048.50902828,  92397.21180635,\n",
      "        90060.09816266,  92390.32512339, 126248.56263355,  96312.99373654,\n",
      "       115529.68009038, 108638.44372843]), 'Mean': 108280.35602517167, 'Std': 27966.08469225951})\n",
      "98053\n",
      "(LinearRegression(copy_X=True, fit_intercept=True, n_jobs=None,\n",
      "         normalize=False), {'R2': 0.8104192180137229, 'RMSE': 102352.76951020771, 'RMSE_SCORES': array([ 73278.05575886,  94543.29233949,  84396.78011861, 150876.62972788,\n",
      "       107864.15753802, 103383.54963799, 149922.74178845,  69121.43524759,\n",
      "        88799.65694511,  87828.85902474]), 'Mean': 101001.51581267398, 'Std': 27126.266227388034})\n",
      "98003\n",
      "(LinearRegression(copy_X=True, fit_intercept=True, n_jobs=None,\n",
      "         normalize=False), {'R2': 0.70696577604875, 'RMSE': 61248.229292863, 'RMSE_SCORES': array([45149.0295961 , 58108.80016221, 53291.51234396, 55930.84662463,\n",
      "       46847.34474654, 70094.18015338, 38184.23789792, 39879.55035086,\n",
      "       41518.45136686, 55013.36505467]), 'Mean': 50401.73182971057, 'Std': 9415.419306756921})\n",
      "98198\n",
      "(LinearRegression(copy_X=True, fit_intercept=True, n_jobs=None,\n",
      "         normalize=False), {'R2': 0.6786636935324671, 'RMSE': 53788.507914652684, 'RMSE_SCORES': array([ 71825.43454871,  63184.13368583,  50080.9588118 ,  57789.54653968,\n",
      "        57099.74560821, 119048.07596131, 125110.44526283,  79919.00707915,\n",
      "        64558.70712644, 107219.87468353]), 'Mean': 79583.59293074938, 'Std': 26076.43384901627})\n",
      "98146\n",
      "(LinearRegression(copy_X=True, fit_intercept=True, n_jobs=None,\n",
      "         normalize=False), {'R2': 0.8402623567325629, 'RMSE': 71216.78690400878, 'RMSE_SCORES': array([101914.6121041 , 109537.33769933,  53123.98237611,  89152.92242482,\n",
      "        62679.75702741,  93178.64612505,  98536.2835648 , 126437.36503503,\n",
      "        66062.34470361,  95271.94050734]), 'Mean': 89589.51915675904, 'Std': 21541.570717623825})\n",
      "98038\n",
      "(LinearRegression(copy_X=True, fit_intercept=True, n_jobs=None,\n",
      "         normalize=False), {'R2': 0.7955666158291251, 'RMSE': 65182.52943445219, 'RMSE_SCORES': array([50025.19964863, 80268.00525338, 63457.4862603 , 48215.34648782,\n",
      "       51329.91081679, 62349.52295394, 74172.85989563, 70221.59913776,\n",
      "       76616.52606531, 35805.90570564]), 'Mean': 61246.23622251976, 'Std': 13758.978122422777})\n",
      "98007\n",
      "(LinearRegression(copy_X=True, fit_intercept=True, n_jobs=None,\n",
      "         normalize=False), {'R2': 0.8851128367674961, 'RMSE': 76827.6709714218, 'RMSE_SCORES': array([82433.03450051, 77029.63517491, 47626.3193548 , 68418.81538537,\n",
      "       77727.22953818, 95957.65599195, 67583.68761099, 68980.43745475,\n",
      "       49759.20213405, 73309.89914893]), 'Mean': 70882.59162944261, 'Std': 13639.360516688936})\n",
      "98115\n",
      "(LinearRegression(copy_X=True, fit_intercept=True, n_jobs=None,\n",
      "         normalize=False), {'R2': 0.6805546330616083, 'RMSE': 125436.73720469608, 'RMSE_SCORES': array([114531.20445812, 106617.73311717,  80641.46831724, 129272.39224003,\n",
      "       108324.35685441, 166729.14355636, 119544.71632336, 138129.68311407,\n",
      "       110916.07890788, 142253.82976041]), 'Mean': 121696.06066490445, 'Std': 22454.119004578275})\n",
      "98107\n",
      "(LinearRegression(copy_X=True, fit_intercept=True, n_jobs=None,\n",
      "         normalize=False), {'R2': 0.7285680845402474, 'RMSE': 152102.32652028857, 'RMSE_SCORES': array([115709.85736847, 126767.37514987, 137878.98251209,  93841.26153162,\n",
      "       124437.48694016, 143090.80280943, 128342.67732774, 192645.14817899,\n",
      "       273091.36322088,  57030.32436858]), 'Mean': 139283.5279407823, 'Std': 55363.82901438189})\n",
      "98126\n",
      "(LinearRegression(copy_X=True, fit_intercept=True, n_jobs=None,\n",
      "         normalize=False), {'R2': 0.709012424189709, 'RMSE': 93246.9943837491, 'RMSE_SCORES': array([89897.87655371, 83259.55343445, 74336.37831036, 64750.59127362,\n",
      "       65681.28645739, 61731.13859763, 69989.41971132, 53139.21297656,\n",
      "       66065.35420844, 77156.6730352 ]), 'Mean': 70600.74845586755, 'Std': 10259.160508383897})\n",
      "98019\n",
      "(LinearRegression(copy_X=True, fit_intercept=True, n_jobs=None,\n",
      "         normalize=False), {'R2': 0.7028304733764008, 'RMSE': 66613.78829834501, 'RMSE_SCORES': array([61129.06771467, 83452.79531374, 86002.02507685, 51361.24509958,\n",
      "       73768.44216676, 51545.86324686, 73125.02702568, 54469.47807726,\n",
      "       52662.29040165, 51174.01076262]), 'Mean': 63869.024488567185, 'Std': 13221.13381899889})\n",
      "98103\n",
      "(LinearRegression(copy_X=True, fit_intercept=True, n_jobs=None,\n",
      "         normalize=False), {'R2': 0.8026914433564573, 'RMSE': 90994.32156657206, 'RMSE_SCORES': array([ 98488.23461156, 116695.23328664, 120171.2995565 ,  96963.88588207,\n",
      "       106963.02755749,  82774.03473446, 101782.31296079, 117397.78044711,\n",
      "       100644.5183987 , 112783.78957533]), 'Mean': 105466.4117010654, 'Std': 11014.611708587332})\n",
      "98002\n",
      "(LinearRegression(copy_X=True, fit_intercept=True, n_jobs=None,\n",
      "         normalize=False), {'R2': 0.6141638426387341, 'RMSE': 29821.12257738014, 'RMSE_SCORES': array([25669.12076138, 29993.83917584, 23298.80916391, 39122.01421834,\n",
      "       27394.86876115, 32319.43828472, 32214.09193167, 36629.78327242,\n",
      "       19796.49273026, 20299.51847154]), 'Mean': 28673.797677121758, 'Std': 6233.130541561193})\n",
      "98133\n",
      "(LinearRegression(copy_X=True, fit_intercept=True, n_jobs=None,\n",
      "         normalize=False), {'R2': 0.5181592867701519, 'RMSE': 78767.4670661897, 'RMSE_SCORES': array([61293.00726521, 66652.94108038, 56581.41314321, 74384.08057667,\n",
      "       85133.03983432, 60766.21932653, 67792.8475787 , 52180.33036763,\n",
      "       55012.40927314, 92592.07927041]), 'Mean': 67238.83677162131, 'Std': 12576.830312999886})\n",
      "98040\n",
      "(LinearRegression(copy_X=True, fit_intercept=True, n_jobs=None,\n",
      "         normalize=False), {'R2': 0.8468159411609438, 'RMSE': 204031.21894217236, 'RMSE_SCORES': array([471875.61256389, 266031.5693211 , 287269.28197175, 221554.90500248,\n",
      "       229392.94440563, 239224.72044683, 248431.49386034, 148974.89935832,\n",
      "       174347.3031754 , 326153.31823938]), 'Mean': 261325.60483451298, 'Std': 85248.56315594011})\n",
      "98092\n",
      "(LinearRegression(copy_X=True, fit_intercept=True, n_jobs=None,\n",
      "         normalize=False), {'R2': 0.7875061804146416, 'RMSE': 66075.10588240184, 'RMSE_SCORES': array([52990.12161806, 65762.43103259, 55849.0723922 , 45222.93607062,\n",
      "       68526.39623453, 59682.36277635, 56593.87193082, 62159.74030859,\n",
      "       66821.56232427, 30400.08837179]), 'Mean': 56400.858305981536, 'Std': 10955.147689999778})\n"
     ]
    },
    {
     "name": "stdout",
     "output_type": "stream",
     "text": [
      "98030\n",
      "(LinearRegression(copy_X=True, fit_intercept=True, n_jobs=None,\n",
      "         normalize=False), {'R2': 0.6597944040172954, 'RMSE': 37440.89081589107, 'RMSE_SCORES': array([31892.51759437, 51578.26706739, 28814.35771072, 33545.59523422,\n",
      "       36096.35090306, 40060.42349618, 48951.96581395, 43061.49046903,\n",
      "       37334.03055549, 38293.48986567]), 'Mean': 38962.84887100944, 'Std': 6859.888934353113})\n",
      "98119\n",
      "(LinearRegression(copy_X=True, fit_intercept=True, n_jobs=None,\n",
      "         normalize=False), {'R2': 0.40440536527679094, 'RMSE': 247160.32390573592, 'RMSE_SCORES': array([129416.37507908, 192837.20260022, 233930.44360362, 256319.95604909,\n",
      "       144159.73244064, 113867.42696749, 337171.04731491, 151267.71574322,\n",
      "       228144.13301015, 346352.05808727]), 'Mean': 213346.60908956872, 'Std': 78430.83002372432})\n",
      "98112\n",
      "(LinearRegression(copy_X=True, fit_intercept=True, n_jobs=None,\n",
      "         normalize=False), {'R2': 0.775756725057863, 'RMSE': 286409.20968403324, 'RMSE_SCORES': array([215580.95632897, 165584.12243791, 217833.4808929 , 277387.32401654,\n",
      "       318902.12334637, 260187.97674549, 273425.11644946, 247262.78526598,\n",
      "       199296.6774848 , 164152.38055415]), 'Mean': 233961.2943522578, 'Std': 47823.87187073695})\n",
      "98052\n",
      "(LinearRegression(copy_X=True, fit_intercept=True, n_jobs=None,\n",
      "         normalize=False), {'R2': 0.7876882028183246, 'RMSE': 89296.40560261223, 'RMSE_SCORES': array([105146.19170228, 109660.33889703,  89174.86419218,  94782.67313203,\n",
      "        67032.45607799, 109673.46990082,  85580.27047742,  96532.93440219,\n",
      "        72343.64886983,  97868.38009724]), 'Mean': 92779.52277490089, 'Std': 13829.888881500467})\n",
      "98027\n",
      "(LinearRegression(copy_X=True, fit_intercept=True, n_jobs=None,\n",
      "         normalize=False), {'R2': 0.8249276009883183, 'RMSE': 113731.5575466873, 'RMSE_SCORES': array([131963.3386097 ,  77475.62817294, 241353.32311018, 148153.44544176,\n",
      "       105935.17489765,  96989.16656575,  89882.74787971, 159705.56444676,\n",
      "        73292.30465668, 107631.19577779]), 'Mean': 123238.1889558922, 'Std': 47865.77599804055})\n",
      "98117\n",
      "(LinearRegression(copy_X=True, fit_intercept=True, n_jobs=None,\n",
      "         normalize=False), {'R2': 0.6820462100024791, 'RMSE': 109249.79274966355, 'RMSE_SCORES': array([104772.90160111,  98290.06759048,  85162.83384119,  89342.61329229,\n",
      "       102950.33724627, 110810.53111038,  77261.14234662,  83394.13609955,\n",
      "        91516.25577119, 104445.45297917]), 'Mean': 94794.62718782497, 'Std': 10481.341482889802})\n",
      "98058\n",
      "(LinearRegression(copy_X=True, fit_intercept=True, n_jobs=None,\n",
      "         normalize=False), {'R2': 0.6930323285675675, 'RMSE': 91242.47344350319, 'RMSE_SCORES': array([ 43890.5402135 , 109121.3046763 ,  94029.78751812,  53552.71952273,\n",
      "        41735.58668145,  53338.33432465,  71495.04171817,  45793.67118292,\n",
      "        39621.68651317,  51180.66335808]), 'Mean': 60375.933570909096, 'Std': 22529.040318379004})\n",
      "98001\n",
      "(LinearRegression(copy_X=True, fit_intercept=True, n_jobs=None,\n",
      "         normalize=False), {'R2': 0.7893320214674628, 'RMSE': 47700.98972745473, 'RMSE_SCORES': array([44421.42523959, 34130.00007796, 49202.66844856, 48413.83800282,\n",
      "       62905.20837179, 47806.51950356, 34725.47878599, 47760.13324162,\n",
      "       41176.36165347, 58784.25413985]), 'Mean': 46932.58874652117, 'Std': 8699.094200383748})\n",
      "98056\n",
      "(LinearRegression(copy_X=True, fit_intercept=True, n_jobs=None,\n",
      "         normalize=False), {'R2': 0.8030780606128106, 'RMSE': 75746.38086828627, 'RMSE_SCORES': array([ 73994.7774843 , 145598.55974123,  68519.57896083,  48574.21012311,\n",
      "        65806.26523494,  60241.09722236,  86241.02816055,  78164.39747078,\n",
      "        51446.04201881, 241720.64802507]), 'Mean': 92030.6604441973, 'Std': 56226.629719125725})\n",
      "98166\n",
      "(LinearRegression(copy_X=True, fit_intercept=True, n_jobs=None,\n",
      "         normalize=False), {'R2': 0.828240217848598, 'RMSE': 111299.11310369978, 'RMSE_SCORES': array([154850.88840123, 147618.94378184, 148670.1879426 ,  92760.33819114,\n",
      "       132594.1118569 , 136858.1106752 , 106252.53472967,  79011.22411641,\n",
      "       213922.38354805, 167379.34813394]), 'Mean': 137991.80713769962, 'Std': 36989.748510963764})\n",
      "98023\n",
      "(LinearRegression(copy_X=True, fit_intercept=True, n_jobs=None,\n",
      "         normalize=False), {'R2': 0.6803984812272634, 'RMSE': 53331.60103361261, 'RMSE_SCORES': array([ 35981.99666458,  31159.61210443,  82619.75651221,  55643.73661382,\n",
      "       135984.80091851,  37308.34615969,  47748.72194021,  39557.65894408,\n",
      "        37965.6509177 ,  47618.38800019]), 'Mean': 55158.86687754097, 'Std': 30331.99346602165})\n",
      "98070\n",
      "(LinearRegression(copy_X=True, fit_intercept=True, n_jobs=None,\n",
      "         normalize=False), {'R2': 0.21780123426706477, 'RMSE': 118734.05491703181, 'RMSE_SCORES': array([200059.43047472, 199493.72466183, 150114.89460976,  97709.5955677 ,\n",
      "       137891.38174698, 102586.25458774,  69568.31679623, 168235.41078473,\n",
      "        95643.19742634, 108411.71874115]), 'Mean': 132971.39253971865, 'Std': 43209.784910419345})\n",
      "98148\n",
      "(LinearRegression(copy_X=True, fit_intercept=True, n_jobs=None,\n",
      "         normalize=False), {'R2': 0.5521981277270481, 'RMSE': 58208.49694830812, 'RMSE_SCORES': array([ 29932.39084447,  70064.82210537,  53625.67365343,  51005.45223949,\n",
      "        36078.54855955,  44820.60514949, 148736.02280396,  38133.95728897,\n",
      "        51493.20323643,  75640.87744255]), 'Mean': 59953.155332371636, 'Std': 32555.693539232332})\n",
      "98105\n",
      "(LinearRegression(copy_X=True, fit_intercept=True, n_jobs=None,\n",
      "         normalize=False), {'R2': 0.8032762984554483, 'RMSE': 160514.8585733789, 'RMSE_SCORES': array([219402.97207643, 123160.85776037, 192953.87187829, 144787.7720773 ,\n",
      "       151177.07099039, 212497.35459126, 137311.93433364, 118124.98807853,\n",
      "        99192.88943901, 115656.90660231]), 'Mean': 151426.66178275383, 'Std': 40291.537138809035})\n",
      "98042\n",
      "(LinearRegression(copy_X=True, fit_intercept=True, n_jobs=None,\n",
      "         normalize=False), {'R2': 0.6258958037462217, 'RMSE': 54179.43147026835, 'RMSE_SCORES': array([33847.29970954, 47643.43551978, 45757.13356381, 71187.02938542,\n",
      "       46633.43472383, 68495.22461819, 58121.65060844, 46047.95818569,\n",
      "       36435.92827739, 47333.22705801]), 'Mean': 50150.232165010995, 'Std': 11658.52569464309})\n",
      "98008\n",
      "(LinearRegression(copy_X=True, fit_intercept=True, n_jobs=None,\n",
      "         normalize=False), {'R2': 0.6926001034354876, 'RMSE': 159043.50535318593, 'RMSE_SCORES': array([133166.58707628, 122895.08002756, 181104.58792854,  89269.50014239,\n",
      "        74365.78264577, 130491.13838953,  79603.36072415, 130824.14653679,\n",
      "        89024.03988659, 303839.54819876]), 'Mean': 133458.3771556366, 'Std': 64611.67202025725})\n",
      "98059\n",
      "(LinearRegression(copy_X=True, fit_intercept=True, n_jobs=None,\n",
      "         normalize=False), {'R2': 0.9057801208767987, 'RMSE': 78441.95097804251, 'RMSE_SCORES': array([ 90284.05240636,  91010.90822502,  89529.58781192,  74884.24575224,\n",
      "        80234.21786278, 104582.7684148 ,  77049.04818687,  57260.82281172,\n",
      "        65424.36706598,  65870.116038  ]), 'Mean': 79613.01345756806, 'Std': 13728.570888252523})\n",
      "98122\n",
      "(LinearRegression(copy_X=True, fit_intercept=True, n_jobs=None,\n",
      "         normalize=False), {'R2': 0.7173357840001273, 'RMSE': 175356.05601771307, 'RMSE_SCORES': array([148019.4167708 , 172388.91757077, 143383.09606648, 118005.19773543,\n",
      "       146435.88263652, 119561.85940641, 174748.80353375, 131491.90287628,\n",
      "       162926.65304472,  91352.48632655]), 'Mean': 140831.42159677247, 'Std': 24965.7251447995})\n",
      "98144\n",
      "(LinearRegression(copy_X=True, fit_intercept=True, n_jobs=None,\n",
      "         normalize=False), {'R2': 0.7975988281259869, 'RMSE': 175992.1928750987, 'RMSE_SCORES': array([235521.90585882, 264921.0877181 ,  86892.29840775, 136673.42792463,\n",
      "       131089.90260736, 241787.7391603 , 142859.93462969, 121825.09169273,\n",
      "        87698.25920007, 164244.14377336]), 'Mean': 161351.37909728114, 'Std': 60913.28558465791})\n",
      "98004\n",
      "(LinearRegression(copy_X=True, fit_intercept=True, n_jobs=None,\n",
      "         normalize=False), {'R2': 0.8697522275985923, 'RMSE': 230634.2196186895, 'RMSE_SCORES': array([250806.71631834, 267579.82264121, 181763.94651848, 371652.01551983,\n",
      "       194339.17936281, 271782.87463418, 267484.04750393, 259662.46862402,\n",
      "       309740.66105582, 273410.41348632]), 'Mean': 264822.214566494, 'Std': 50652.504602322115})\n"
     ]
    },
    {
     "name": "stdout",
     "output_type": "stream",
     "text": [
      "98005\n",
      "(LinearRegression(copy_X=True, fit_intercept=True, n_jobs=None,\n",
      "         normalize=False), {'R2': 0.7970254573144837, 'RMSE': 107970.0881312192, 'RMSE_SCORES': array([135915.43562133, 160853.48575408,  78951.02229869, 164486.92684171,\n",
      "       127261.93031016, 168088.85100401, 203551.91770013, 159419.60984754,\n",
      "       113260.90936031, 157340.09107291]), 'Mean': 146913.01798108718, 'Std': 32685.023802217733})\n",
      "98034\n",
      "(LinearRegression(copy_X=True, fit_intercept=True, n_jobs=None,\n",
      "         normalize=False), {'R2': 0.6926243952021116, 'RMSE': 202472.286550097, 'RMSE_SCORES': array([122366.57329995, 250589.06691415, 149174.12591978,  75539.53169432,\n",
      "       142684.88110193,  93763.66912236,  83723.96158144, 125298.98912227,\n",
      "       156719.25338097, 212628.08426509]), 'Mean': 141248.81364022658, 'Std': 52770.34377539442})\n",
      "98075\n",
      "(LinearRegression(copy_X=True, fit_intercept=True, n_jobs=None,\n",
      "         normalize=False), {'R2': 0.8284638199767975, 'RMSE': 137471.3745999424, 'RMSE_SCORES': array([ 76786.84755466, 129854.18996361, 143202.42169975,  55204.30854099,\n",
      "       180141.46682169, 143510.88941696, 155389.76505905, 142746.09010134,\n",
      "       106879.44326956, 156942.04510233]), 'Mean': 129065.74675299376, 'Std': 36545.6970248581})\n",
      "98116\n",
      "(LinearRegression(copy_X=True, fit_intercept=True, n_jobs=None,\n",
      "         normalize=False), {'R2': 0.8760152822046037, 'RMSE': 87850.64360327767, 'RMSE_SCORES': array([ 94578.03908546,  98118.20196638, 184474.37008853, 133442.28829801,\n",
      "        86800.38343462,  91180.82479521, 122333.38303421, 117828.40736504,\n",
      "        85395.34991987,  81240.91659082]), 'Mean': 109539.21645781472, 'Std': 30018.522642157553})\n",
      "98010\n",
      "(LinearRegression(copy_X=True, fit_intercept=True, n_jobs=None,\n",
      "         normalize=False), {'R2': 0.6594092499817745, 'RMSE': 118711.6580009915, 'RMSE_SCORES': array([ 65288.86684143, 112595.43544416,  93731.39791617, 146618.92435262,\n",
      "       135719.060807  , 106663.99104708,  93232.16472878,  75256.49798358,\n",
      "        60757.73068128, 109117.39173508]), 'Mean': 99898.1461537167, 'Std': 26790.689797461753})\n",
      "98118\n",
      "(LinearRegression(copy_X=True, fit_intercept=True, n_jobs=None,\n",
      "         normalize=False), {'R2': 0.6929255839612941, 'RMSE': 87486.51888997604, 'RMSE_SCORES': array([ 91197.41425608,  95565.24366589, 167024.91305763,  92440.92850387,\n",
      "       112083.6381354 ,  78947.21258682, 109207.59246234, 101686.96885415,\n",
      "        96983.87673665,  79573.50380939]), 'Mean': 102471.12920682176, 'Std': 23851.131741919635})\n",
      "98199\n",
      "(LinearRegression(copy_X=True, fit_intercept=True, n_jobs=None,\n",
      "         normalize=False), {'R2': 0.672178979012876, 'RMSE': 167599.6658567529, 'RMSE_SCORES': array([146945.2587738 , 141391.49159756, 163979.64785905, 183683.92896558,\n",
      "       151052.61299626, 240861.002963  , 216132.55456418, 141532.26019886,\n",
      "       238607.75416712, 277556.45863474]), 'Mean': 190174.29707201436, 'Std': 47008.26046074656})\n",
      "98032\n",
      "(LinearRegression(copy_X=True, fit_intercept=True, n_jobs=None,\n",
      "         normalize=False), {'R2': 0.7756115878347627, 'RMSE': 38220.47387606652, 'RMSE_SCORES': array([36993.81422236, 30149.88275189, 33026.90970421, 32649.47746234,\n",
      "       48561.32900332, 43554.63374364, 30798.4654208 , 40665.93073967,\n",
      "       44811.76881394, 25450.53580991]), 'Mean': 36666.27476720728, 'Std': 7095.508426870226})\n",
      "98045\n",
      "(LinearRegression(copy_X=True, fit_intercept=True, n_jobs=None,\n",
      "         normalize=False), {'R2': 0.6334885238963528, 'RMSE': 95427.88698993521, 'RMSE_SCORES': array([ 79743.18346709,  66203.07266275,  93156.14658869,  70791.90575425,\n",
      "        91847.89264514, 147549.35241434,  73508.48101869,  74430.72547378,\n",
      "        59499.81191074, 141237.68935409]), 'Mean': 89796.82612895522, 'Std': 29043.541188457864})\n",
      "98102\n",
      "(LinearRegression(copy_X=True, fit_intercept=True, n_jobs=None,\n",
      "         normalize=False), {'R2': 0.455069106404282, 'RMSE': 259141.6725102846, 'RMSE_SCORES': array([267369.0502584 , 173126.29454063, 155087.36527332, 254742.50723007,\n",
      "       130996.22446864, 190081.95639843, 143925.94600987, 342589.01806548,\n",
      "       251615.13558484, 111855.71745762]), 'Mean': 202138.92152873005, 'Std': 69998.7678300734})\n",
      "98077\n",
      "(LinearRegression(copy_X=True, fit_intercept=True, n_jobs=None,\n",
      "         normalize=False), {'R2': 0.8633419985224777, 'RMSE': 129826.49104230158, 'RMSE_SCORES': array([140825.84142211,  67914.68813986,  92045.543761  ,  79756.79657216,\n",
      "        44326.58755189,  77724.34328624, 138169.79467807, 109314.58003406,\n",
      "       108861.42305442,  69162.56970871]), 'Mean': 92810.21682085327, 'Std': 29700.585331903076})\n",
      "98108\n",
      "(LinearRegression(copy_X=True, fit_intercept=True, n_jobs=None,\n",
      "         normalize=False), {'R2': 0.4643092517339562, 'RMSE': 74345.35878220647, 'RMSE_SCORES': array([39476.97124467, 51219.19453453, 49763.13962572, 51361.01292863,\n",
      "       70758.37106505, 79262.02912811, 50403.49630516, 58369.48852568,\n",
      "       56087.85536671, 94793.55508987]), 'Mean': 60149.51138141328, 'Std': 15763.613931097198})\n",
      "98168\n",
      "(LinearRegression(copy_X=True, fit_intercept=True, n_jobs=None,\n",
      "         normalize=False), {'R2': 0.6697246193824797, 'RMSE': 45878.28944735725, 'RMSE_SCORES': array([44606.95190469, 37138.70255573, 47719.90716653, 57057.00671481,\n",
      "       42106.68328889, 49893.44511782, 44489.48931281, 46820.02112716,\n",
      "       44793.90621764, 46086.61758684]), 'Mean': 46071.27309929331, 'Std': 4902.661796405611})\n",
      "98177\n",
      "(LinearRegression(copy_X=True, fit_intercept=True, n_jobs=None,\n",
      "         normalize=False), {'R2': 0.6931510333325202, 'RMSE': 315863.30532894575, 'RMSE_SCORES': array([133112.16415045, 246964.71211004, 122260.68477299, 121660.88014871,\n",
      "       110848.9162386 , 179855.46914618, 179008.46259912, 142257.01396049,\n",
      "       241512.39904541, 385144.67529486]), 'Mean': 186262.53774668477, 'Std': 80686.6481585081})\n",
      "98065\n",
      "(LinearRegression(copy_X=True, fit_intercept=True, n_jobs=None,\n",
      "         normalize=False), {'R2': 0.6563005381894191, 'RMSE': 138934.8401702359, 'RMSE_SCORES': array([ 59987.2285446 ,  73452.07165748, 182654.56563835,  62577.6739689 ,\n",
      "        65973.78176053,  88455.36918237,  93503.62625989,  48092.01289154,\n",
      "        37117.38531297,  49148.58347785]), 'Mean': 76096.22986944707, 'Std': 39232.52940956777})\n",
      "98029\n",
      "(LinearRegression(copy_X=True, fit_intercept=True, n_jobs=None,\n",
      "         normalize=False), {'R2': 0.8084545594531333, 'RMSE': 69714.81064071078, 'RMSE_SCORES': array([128667.30130658,  71845.4180888 ,  51060.83179701,  50406.3239777 ,\n",
      "        55766.06536942, 184120.79857708,  63825.54145012, 175953.3299507 ,\n",
      "        67746.21412197, 178192.76558002]), 'Mean': 102758.45902194045, 'Std': 54459.01520546299})\n",
      "98006\n",
      "(LinearRegression(copy_X=True, fit_intercept=True, n_jobs=None,\n",
      "         normalize=False), {'R2': 0.5404195898176808, 'RMSE': 250028.4529671219, 'RMSE_SCORES': array([173429.13619187, 216252.33551357, 197810.271694  , 188181.41101821,\n",
      "       173950.84671078, 137391.89960163, 324251.03476422, 224081.07427619,\n",
      "       179120.84428382, 277680.08812671]), 'Mean': 209214.89421809878, 'Std': 52299.298322127535})\n",
      "98109\n",
      "(LinearRegression(copy_X=True, fit_intercept=True, n_jobs=None,\n",
      "         normalize=False), {'R2': 0.6164561171695482, 'RMSE': 187377.20578544636, 'RMSE_SCORES': array([119252.09129454, 242035.16754929, 258141.90292617, 311664.02726791,\n",
      "       264155.30143761, 224723.73176842, 212265.597295  , 343494.49668004,\n",
      "       171841.92466215, 114062.76418485]), 'Mean': 226163.70050659837, 'Std': 71370.50543931138})\n",
      "98022\n",
      "(LinearRegression(copy_X=True, fit_intercept=True, n_jobs=None,\n",
      "         normalize=False), {'R2': 0.8378483941308308, 'RMSE': 58586.45860184065, 'RMSE_SCORES': array([35487.36386362, 67638.41696496, 36882.33837314, 32325.55595364,\n",
      "       50893.37072264, 78468.60385903, 55652.66012178, 41045.93175021,\n",
      "       38892.16133222, 59538.99620205]), 'Mean': 49682.53991432865, 'Std': 14638.802958296377})\n",
      "98033\n",
      "(LinearRegression(copy_X=True, fit_intercept=True, n_jobs=None,\n",
      "         normalize=False), {'R2': 0.8222197802058134, 'RMSE': 169085.83571516283, 'RMSE_SCORES': array([169632.21030249, 148947.71603166, 152801.58242008, 157613.25561365,\n",
      "       155113.34883681, 153408.57705229, 130467.86284417, 170355.39287406,\n",
      "       134306.69635555, 235579.19307892]), 'Mean': 160822.583540969, 'Std': 27721.377247694374})\n"
     ]
    },
    {
     "name": "stdout",
     "output_type": "stream",
     "text": [
      "98155\n",
      "(LinearRegression(copy_X=True, fit_intercept=True, n_jobs=None,\n",
      "         normalize=False), {'R2': 0.5237027851499461, 'RMSE': 140850.96359937426, 'RMSE_SCORES': array([127621.53364529, 374709.71927204,  89163.21318688, 117371.23326845,\n",
      "        92957.90668231,  79898.06185365,  97240.67160211, 264130.40577455,\n",
      "        65938.96397037,  83750.25173504]), 'Mean': 139278.19609907045, 'Std': 94891.56931557241})\n",
      "98024\n",
      "(LinearRegression(copy_X=True, fit_intercept=True, n_jobs=None,\n",
      "         normalize=False), {'R2': 0.6725993776541493, 'RMSE': 188974.88742954587, 'RMSE_SCORES': array([ 90136.37806285, 152189.15162232,  91122.71424366, 201294.66586984,\n",
      "        54540.92941323, 174425.51418356, 150370.55440769,  66763.25917937,\n",
      "       328175.38238806, 146657.71834306]), 'Mean': 145567.62677136538, 'Std': 76082.08316407252})\n",
      "98011\n",
      "(LinearRegression(copy_X=True, fit_intercept=True, n_jobs=None,\n",
      "         normalize=False), {'R2': 0.7797171767829263, 'RMSE': 58512.47280552181, 'RMSE_SCORES': array([105266.73109299,  35588.27791805,  52704.1001273 ,  64140.59494568,\n",
      "        73184.73789802,  44544.18117531,  40980.71275284, 115686.00240075,\n",
      "        64786.89464961,  74075.46107665]), 'Mean': 67095.76940371933, 'Std': 25116.331600483598})\n",
      "98031\n",
      "(LinearRegression(copy_X=True, fit_intercept=True, n_jobs=None,\n",
      "         normalize=False), {'R2': 0.8814153710481908, 'RMSE': 35343.72577789054, 'RMSE_SCORES': array([36354.53608731, 84089.72065696, 42315.96604529, 24846.83602162,\n",
      "       40543.17867479, 27457.69307992, 23725.56067622, 28667.1925298 ,\n",
      "       30890.61758891, 53330.46591244]), 'Mean': 39222.176727326485, 'Std': 17313.871425407684})\n",
      "98106\n",
      "(LinearRegression(copy_X=True, fit_intercept=True, n_jobs=None,\n",
      "         normalize=False), {'R2': 0.46212529243255207, 'RMSE': 60952.68371323624, 'RMSE_SCORES': array([103351.18999474,  47931.97382031,  51477.43061194,  76001.74556198,\n",
      "        67476.01247532,  74716.60702652,  52128.62073106,  68956.4754924 ,\n",
      "        52779.73393187,  50562.61630225]), 'Mean': 64538.24059483878, 'Std': 16442.44357074147})\n",
      "98072\n",
      "(LinearRegression(copy_X=True, fit_intercept=True, n_jobs=None,\n",
      "         normalize=False), {'R2': 0.8237707148166986, 'RMSE': 120898.48560975467, 'RMSE_SCORES': array([ 80873.35743639, 117342.04593942,  97942.17240884,  80249.72736105,\n",
      "       106294.33794649, 123907.97203637,  83665.97168524,  87277.90744253,\n",
      "        74960.03645351,  89830.47183964]), 'Mean': 94234.40005494856, 'Std': 15807.411312683706})\n",
      "98188\n",
      "(LinearRegression(copy_X=True, fit_intercept=True, n_jobs=None,\n",
      "         normalize=False), {'R2': 0.5824270471928125, 'RMSE': 70587.25520271677, 'RMSE_SCORES': array([ 41576.89506536,  40703.4280694 ,  93384.51957538,  51728.76846164,\n",
      "        64167.80418178,  46825.40365501,  63309.46759959,  30041.22424319,\n",
      "       107059.18687423,  47047.68107897]), 'Mean': 58584.437880455516, 'Std': 23143.942570117004})\n",
      "98014\n",
      "(LinearRegression(copy_X=True, fit_intercept=True, n_jobs=None,\n",
      "         normalize=False), {'R2': 0.7822153947315248, 'RMSE': 139683.53843775266, 'RMSE_SCORES': array([128610.36567454, 102830.13278308,  79525.06339629,  67140.87584109,\n",
      "       308936.11816463,  97192.27206736,  62595.6668044 , 141970.0340956 ,\n",
      "       168676.29540881, 177691.44698429]), 'Mean': 133516.82712200953, 'Std': 69761.64988084947})\n",
      "98055\n",
      "(LinearRegression(copy_X=True, fit_intercept=True, n_jobs=None,\n",
      "         normalize=False), {'R2': 0.6994338492770226, 'RMSE': 44704.1727682289, 'RMSE_SCORES': array([48104.0203648 , 54285.63230522, 64627.87340039, 46607.45360007,\n",
      "       48970.73250832, 51667.11992459, 56803.71029781, 64244.84543662,\n",
      "       54749.55233181, 51929.62768175]), 'Mean': 54199.05678513817, 'Std': 5919.891397338964})\n",
      "98039\n",
      "(LinearRegression(copy_X=True, fit_intercept=True, n_jobs=None,\n",
      "         normalize=False), {'R2': 0.32250977054999175, 'RMSE': 554211.4739651309, 'RMSE_SCORES': array([404367.12987251, 384760.28869242, 347918.45035037, 210670.80783393,\n",
      "       382069.98647782, 401507.96355324, 552401.21445523, 562263.97495807,\n",
      "       482547.61041656, 398822.83045414]), 'Mean': 412733.02570642886, 'Std': 96893.25714261511})\n"
     ]
    }
   ],
   "source": [
    "\n",
    "    "
   ]
  },
  {
   "cell_type": "code",
   "execution_count": null,
   "metadata": {},
   "outputs": [],
   "source": [
    "result.price"
   ]
  },
  {
   "cell_type": "code",
   "execution_count": 195,
   "metadata": {},
   "outputs": [],
   "source": [
    "zip_result = []\n",
    "for zipcode in df.zipcode.unique():\n",
    "    zip_df = get_dataframe_by_zip(zipcode)\n",
    "    \n",
    "    X = zip_df.drop(columns=['price','date','id'], axis=1)\n",
    "    y = zip_df.price\n",
    "\n",
    "    model, result = do_predict(X, y)\n",
    "    zip_result.append((zipcode, result['Mean']))\n"
   ]
  },
  {
   "cell_type": "code",
   "execution_count": 199,
   "metadata": {},
   "outputs": [
    {
     "data": {
      "text/plain": [
       "[(98178, 69249.16597113227),\n",
       " (98125, 98678.00487904354),\n",
       " (98028, 80457.15139651476),\n",
       " (98136, 116792.5249199261),\n",
       " (98074, 108280.35602517167),\n",
       " (98053, 101001.51581267398),\n",
       " (98003, 50401.73182971057),\n",
       " (98198, 79583.59293074938),\n",
       " (98146, 89589.51915675904),\n",
       " (98038, 61246.23622251976),\n",
       " (98007, 70882.59162944261),\n",
       " (98115, 121696.06066490445),\n",
       " (98107, 139283.5279407823),\n",
       " (98126, 70600.74845586755),\n",
       " (98019, 63869.024488567185),\n",
       " (98103, 105466.4117010654),\n",
       " (98002, 28673.797677121758),\n",
       " (98133, 67238.83677162131),\n",
       " (98040, 261325.60483451298),\n",
       " (98092, 56400.858305981536),\n",
       " (98030, 38962.84887100944),\n",
       " (98119, 213346.60908956872),\n",
       " (98112, 233961.2943522578),\n",
       " (98052, 92779.52277490089),\n",
       " (98027, 123238.1889558922),\n",
       " (98117, 94794.62718782497),\n",
       " (98058, 60375.933570909096),\n",
       " (98001, 46932.58874652117),\n",
       " (98056, 92030.6604441973),\n",
       " (98166, 137991.80713769962),\n",
       " (98023, 55158.86687754097),\n",
       " (98070, 132971.39253971865),\n",
       " (98148, 59953.155332371636),\n",
       " (98105, 151426.66178275383),\n",
       " (98042, 50150.232165010995),\n",
       " (98008, 133458.3771556366),\n",
       " (98059, 79613.01345756806),\n",
       " (98122, 140831.42159677247),\n",
       " (98144, 161351.37909728114),\n",
       " (98004, 264822.214566494),\n",
       " (98005, 146913.01798108718),\n",
       " (98034, 141248.81364022658),\n",
       " (98075, 129065.74675299376),\n",
       " (98116, 109539.21645781472),\n",
       " (98010, 99898.1461537167),\n",
       " (98118, 102471.12920682176),\n",
       " (98199, 190174.29707201436),\n",
       " (98032, 36666.27476720728),\n",
       " (98045, 89796.82612895522),\n",
       " (98102, 202138.92152873005),\n",
       " (98077, 92810.21682085327),\n",
       " (98108, 60149.51138141328),\n",
       " (98168, 46071.27309929331),\n",
       " (98177, 186262.53774668477),\n",
       " (98065, 76096.22986944707),\n",
       " (98029, 102758.45902194045),\n",
       " (98006, 209214.89421809878),\n",
       " (98109, 226163.70050659837),\n",
       " (98022, 49682.53991432865),\n",
       " (98033, 160822.583540969),\n",
       " (98155, 139278.19609907045),\n",
       " (98024, 145567.62677136538),\n",
       " (98011, 67095.76940371933),\n",
       " (98031, 39222.176727326485),\n",
       " (98106, 64538.24059483878),\n",
       " (98072, 94234.40005494856),\n",
       " (98188, 58584.437880455516),\n",
       " (98014, 133516.82712200953),\n",
       " (98055, 54199.05678513817),\n",
       " (98039, 412733.02570642886)]"
      ]
     },
     "execution_count": 199,
     "metadata": {},
     "output_type": "execute_result"
    }
   ],
   "source": [
    "zip_result"
   ]
  },
  {
   "cell_type": "code",
   "execution_count": 219,
   "metadata": {},
   "outputs": [
    {
     "data": {
      "text/plain": [
       "69249.16597113227"
      ]
     },
     "execution_count": 219,
     "metadata": {},
     "output_type": "execute_result"
    }
   ],
   "source": [
    "zip_result[0][1]"
   ]
  },
  {
   "cell_type": "code",
   "execution_count": 246,
   "metadata": {},
   "outputs": [
    {
     "data": {
      "text/plain": [
       "array([0. , 0.2, 0.4, 0.6, 0.8])"
      ]
     },
     "execution_count": 246,
     "metadata": {},
     "output_type": "execute_result"
    }
   ],
   "source": [
    "np.arange(0, 1, step=0.2)"
   ]
  },
  {
   "cell_type": "code",
   "execution_count": 271,
   "metadata": {},
   "outputs": [
    {
     "data": {
      "image/png": "[encoded data removed]",
      "text/plain": [
       "<Figure size 1440x1440 with 1 Axes>"
      ]
     },
     "metadata": {
      "needs_background": "light"
     },
     "output_type": "display_data"
    }
   ],
   "source": [
    "fig, ax = plt.subplots(figsize=(18, 18), dpi=80)\n",
    "\n",
    "zipcodes = []\n",
    "rmses = []\n",
    "for zipcode, mean_rmse in zip_result:\n",
    "    zipcodes.append(zipcode)\n",
    "    rmses.append(mean_rmse)\n",
    "\n",
    "ax.bar(zipcodes, rmses, width=3)\n",
    "ax.set_xbound(lower=98001, upper=df.zipcode.max())\n",
    "rects = ax.patches\n",
    "\n",
    "for rect, label in zip(rects, zipcodes):\n",
    "    height = rect.get_height()\n",
    "    ax.text(rect.get_x() + rect.get_width() / 2, height + 5, label,\n",
    "           ha='center', va='bottom')"
   ]
  },
  {
   "cell_type": "code",
   "execution_count": null,
   "metadata": {},
   "outputs": [],
   "source": []
  }
 ],
 "metadata": {
  "kernelspec": {
   "display_name": "Python 3",
   "language": "python",
   "name": "python3"
  },
  "language_info": {
   "codemirror_mode": {
    "name": "ipython",
    "version": 3
   },
   "file_extension": ".py",
   "mimetype": "text/x-python",
   "name": "python",
   "nbconvert_exporter": "python",
   "pygments_lexer": "ipython3",
   "version": "3.7.1"
  }
 },
 "nbformat": 4,
 "nbformat_minor": 2
}
